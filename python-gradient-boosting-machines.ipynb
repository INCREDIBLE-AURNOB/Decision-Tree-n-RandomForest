{
 "cells": [
  {
   "cell_type": "markdown",
   "id": "fixed-plastic",
   "metadata": {},
   "source": [
    "# Gradient Boosting Machines (GBMs) with XGBoost\n",
    "\n",
    "This tutorial is a part of [Machine Learning with Python: Zero to GBMs](https://zerotogbms.com) and [Zero to Data Science Bootcamp by Jovian](https://zerotodatascience.com)\n",
    "\n",
    "![](https://i.imgur.com/6MYc56a.png)\n"
   ]
  },
  {
   "cell_type": "markdown",
   "id": "rural-shelf",
   "metadata": {},
   "source": [
    "The following topics are covered in this tutorial:\n",
    "\n",
    "- Downloading a real-world dataset from a Kaggle competition\n",
    "- Performing feature engineering and prepare the dataset for training\n",
    "- Training and interpreting a gradient boosting model using XGBoost\n",
    "- Training with KFold cross validation and ensembling results\n",
    "- Configuring the gradient boosting model and tuning hyperparamters"
   ]
  },
  {
   "cell_type": "markdown",
   "id": "honey-batch",
   "metadata": {},
   "source": [
    "Let's begin by installing the required libraries."
   ]
  },
  {
   "cell_type": "code",
   "execution_count": 1,
   "id": "discrete-victoria",
   "metadata": {},
   "outputs": [
    {
     "name": "stdout",
     "output_type": "stream",
     "text": [
      "zsh:1: command not found: pip\r\n"
     ]
    }
   ],
   "source": [
    "#restart the kernel after installation\n",
    "!pip install numpy pandas-profiling matplotlib seaborn --quiet"
   ]
  },
  {
   "cell_type": "code",
   "execution_count": 2,
   "id": "structured-sleep",
   "metadata": {},
   "outputs": [
    {
     "name": "stdout",
     "output_type": "stream",
     "text": [
      "zsh:1: command not found: pip\r\n"
     ]
    }
   ],
   "source": [
    "!pip install jovian opendatasets xgboost graphviz lightgbm scikit-learn xgboost lightgbm --upgrade --quiet"
   ]
  },
  {
   "cell_type": "markdown",
   "id": "binary-album",
   "metadata": {},
   "source": [
    "## Problem Statement\n",
    "\n",
    "This tutorial takes a practical and coding-focused approach. We'll learn gradient boosting by applying it to a real-world dataset from the [Rossmann Store Sales](https://www.kaggle.com/c/rossmann-store-sales) competition on Kaggle:\n",
    "\n",
    "> Rossmann operates over 3,000 drug stores in 7 European countries. Currently, Rossmann store managers are tasked with predicting their daily sales for up to six weeks in advance. Store sales are influenced by many factors, including promotions, competition, school and state holidays, seasonality, and locality. \n",
    ">\n",
    ">\n",
    "> With thousands of individual managers predicting sales based on their unique circumstances, the accuracy of results can be quite varied. You are provided with historical sales data for 1,115 Rossmann stores. The task is to forecast the \"Sales\" column for the test set. Note that some stores in the dataset were temporarily closed for refurbishment.\n",
    ">\n",
    "> View and download the data here: https://www.kaggle.com/c/rossmann-store-sales/data"
   ]
  },
  {
   "cell_type": "markdown",
   "id": "alpha-polymer",
   "metadata": {},
   "source": [
    "## Downloading the Data\n",
    "\n",
    "We can download the dataset from Kaggle directly within the Jupyter notebook using the `opendatasets` library. Make sure to [accept the competition rules](https://www.kaggle.com/c/rossmann-store-sales/rules) before executing the following cell."
   ]
  },
  {
   "cell_type": "code",
   "execution_count": 3,
   "id": "stainless-honor",
   "metadata": {},
   "outputs": [],
   "source": [
    "import os\n",
    "import opendatasets as od\n",
    "import pandas as pd\n",
    "pd.set_option(\"display.max_columns\", 120)\n",
    "pd.set_option(\"display.max_rows\", 120)"
   ]
  },
  {
   "cell_type": "code",
   "execution_count": 7,
   "id": "cooperative-match",
   "metadata": {},
   "outputs": [],
   "source": [
    "# od.download('https://www.kaggle.com/c/rossmann-store-sales')"
   ]
  },
  {
   "cell_type": "markdown",
   "id": "composite-shade",
   "metadata": {},
   "source": [
    "You'll be asked to provide your Kaggle credentials to download the data. Follow these instructions: http://bit.ly/kaggle-creds"
   ]
  },
  {
   "cell_type": "code",
   "execution_count": 8,
   "id": "beginning-appeal",
   "metadata": {},
   "outputs": [
    {
     "data": {
      "text/plain": [
       "['test.csv', 'train.csv', 'store.csv', 'sample_submission.csv']"
      ]
     },
     "execution_count": 8,
     "metadata": {},
     "output_type": "execute_result"
    }
   ],
   "source": [
    "os.listdir('rossmann-store-sales')"
   ]
  },
  {
   "cell_type": "markdown",
   "id": "eastern-paintball",
   "metadata": {},
   "source": [
    "Let's load the data into Pandas dataframes."
   ]
  },
  {
   "cell_type": "code",
   "execution_count": 9,
   "id": "fewer-laptop",
   "metadata": {},
   "outputs": [],
   "source": [
    "ross_df = pd.read_csv('./rossmann-store-sales/train.csv', low_memory=False)\n",
    "store_df = pd.read_csv('./rossmann-store-sales/store.csv')\n",
    "test_df = pd.read_csv('./rossmann-store-sales/test.csv')\n",
    "submission_df = pd.read_csv('./rossmann-store-sales/sample_submission.csv')"
   ]
  },
  {
   "cell_type": "code",
   "execution_count": 10,
   "id": "sophisticated-belle",
   "metadata": {},
   "outputs": [
    {
     "data": {
      "text/html": [
       "<div>\n",
       "<style scoped>\n",
       "    .dataframe tbody tr th:only-of-type {\n",
       "        vertical-align: middle;\n",
       "    }\n",
       "\n",
       "    .dataframe tbody tr th {\n",
       "        vertical-align: top;\n",
       "    }\n",
       "\n",
       "    .dataframe thead th {\n",
       "        text-align: right;\n",
       "    }\n",
       "</style>\n",
       "<table border=\"1\" class=\"dataframe\">\n",
       "  <thead>\n",
       "    <tr style=\"text-align: right;\">\n",
       "      <th></th>\n",
       "      <th>Store</th>\n",
       "      <th>DayOfWeek</th>\n",
       "      <th>Date</th>\n",
       "      <th>Sales</th>\n",
       "      <th>Customers</th>\n",
       "      <th>Open</th>\n",
       "      <th>Promo</th>\n",
       "      <th>StateHoliday</th>\n",
       "      <th>SchoolHoliday</th>\n",
       "    </tr>\n",
       "  </thead>\n",
       "  <tbody>\n",
       "    <tr>\n",
       "      <th>0</th>\n",
       "      <td>1</td>\n",
       "      <td>5</td>\n",
       "      <td>2015-07-31</td>\n",
       "      <td>5263</td>\n",
       "      <td>555</td>\n",
       "      <td>1</td>\n",
       "      <td>1</td>\n",
       "      <td>0</td>\n",
       "      <td>1</td>\n",
       "    </tr>\n",
       "    <tr>\n",
       "      <th>1</th>\n",
       "      <td>2</td>\n",
       "      <td>5</td>\n",
       "      <td>2015-07-31</td>\n",
       "      <td>6064</td>\n",
       "      <td>625</td>\n",
       "      <td>1</td>\n",
       "      <td>1</td>\n",
       "      <td>0</td>\n",
       "      <td>1</td>\n",
       "    </tr>\n",
       "    <tr>\n",
       "      <th>2</th>\n",
       "      <td>3</td>\n",
       "      <td>5</td>\n",
       "      <td>2015-07-31</td>\n",
       "      <td>8314</td>\n",
       "      <td>821</td>\n",
       "      <td>1</td>\n",
       "      <td>1</td>\n",
       "      <td>0</td>\n",
       "      <td>1</td>\n",
       "    </tr>\n",
       "    <tr>\n",
       "      <th>3</th>\n",
       "      <td>4</td>\n",
       "      <td>5</td>\n",
       "      <td>2015-07-31</td>\n",
       "      <td>13995</td>\n",
       "      <td>1498</td>\n",
       "      <td>1</td>\n",
       "      <td>1</td>\n",
       "      <td>0</td>\n",
       "      <td>1</td>\n",
       "    </tr>\n",
       "    <tr>\n",
       "      <th>4</th>\n",
       "      <td>5</td>\n",
       "      <td>5</td>\n",
       "      <td>2015-07-31</td>\n",
       "      <td>4822</td>\n",
       "      <td>559</td>\n",
       "      <td>1</td>\n",
       "      <td>1</td>\n",
       "      <td>0</td>\n",
       "      <td>1</td>\n",
       "    </tr>\n",
       "    <tr>\n",
       "      <th>...</th>\n",
       "      <td>...</td>\n",
       "      <td>...</td>\n",
       "      <td>...</td>\n",
       "      <td>...</td>\n",
       "      <td>...</td>\n",
       "      <td>...</td>\n",
       "      <td>...</td>\n",
       "      <td>...</td>\n",
       "      <td>...</td>\n",
       "    </tr>\n",
       "    <tr>\n",
       "      <th>1017204</th>\n",
       "      <td>1111</td>\n",
       "      <td>2</td>\n",
       "      <td>2013-01-01</td>\n",
       "      <td>0</td>\n",
       "      <td>0</td>\n",
       "      <td>0</td>\n",
       "      <td>0</td>\n",
       "      <td>a</td>\n",
       "      <td>1</td>\n",
       "    </tr>\n",
       "    <tr>\n",
       "      <th>1017205</th>\n",
       "      <td>1112</td>\n",
       "      <td>2</td>\n",
       "      <td>2013-01-01</td>\n",
       "      <td>0</td>\n",
       "      <td>0</td>\n",
       "      <td>0</td>\n",
       "      <td>0</td>\n",
       "      <td>a</td>\n",
       "      <td>1</td>\n",
       "    </tr>\n",
       "    <tr>\n",
       "      <th>1017206</th>\n",
       "      <td>1113</td>\n",
       "      <td>2</td>\n",
       "      <td>2013-01-01</td>\n",
       "      <td>0</td>\n",
       "      <td>0</td>\n",
       "      <td>0</td>\n",
       "      <td>0</td>\n",
       "      <td>a</td>\n",
       "      <td>1</td>\n",
       "    </tr>\n",
       "    <tr>\n",
       "      <th>1017207</th>\n",
       "      <td>1114</td>\n",
       "      <td>2</td>\n",
       "      <td>2013-01-01</td>\n",
       "      <td>0</td>\n",
       "      <td>0</td>\n",
       "      <td>0</td>\n",
       "      <td>0</td>\n",
       "      <td>a</td>\n",
       "      <td>1</td>\n",
       "    </tr>\n",
       "    <tr>\n",
       "      <th>1017208</th>\n",
       "      <td>1115</td>\n",
       "      <td>2</td>\n",
       "      <td>2013-01-01</td>\n",
       "      <td>0</td>\n",
       "      <td>0</td>\n",
       "      <td>0</td>\n",
       "      <td>0</td>\n",
       "      <td>a</td>\n",
       "      <td>1</td>\n",
       "    </tr>\n",
       "  </tbody>\n",
       "</table>\n",
       "<p>1017209 rows × 9 columns</p>\n",
       "</div>"
      ],
      "text/plain": [
       "         Store  DayOfWeek        Date  Sales  Customers  Open  Promo  \\\n",
       "0            1          5  2015-07-31   5263        555     1      1   \n",
       "1            2          5  2015-07-31   6064        625     1      1   \n",
       "2            3          5  2015-07-31   8314        821     1      1   \n",
       "3            4          5  2015-07-31  13995       1498     1      1   \n",
       "4            5          5  2015-07-31   4822        559     1      1   \n",
       "...        ...        ...         ...    ...        ...   ...    ...   \n",
       "1017204   1111          2  2013-01-01      0          0     0      0   \n",
       "1017205   1112          2  2013-01-01      0          0     0      0   \n",
       "1017206   1113          2  2013-01-01      0          0     0      0   \n",
       "1017207   1114          2  2013-01-01      0          0     0      0   \n",
       "1017208   1115          2  2013-01-01      0          0     0      0   \n",
       "\n",
       "        StateHoliday  SchoolHoliday  \n",
       "0                  0              1  \n",
       "1                  0              1  \n",
       "2                  0              1  \n",
       "3                  0              1  \n",
       "4                  0              1  \n",
       "...              ...            ...  \n",
       "1017204            a              1  \n",
       "1017205            a              1  \n",
       "1017206            a              1  \n",
       "1017207            a              1  \n",
       "1017208            a              1  \n",
       "\n",
       "[1017209 rows x 9 columns]"
      ]
     },
     "execution_count": 10,
     "metadata": {},
     "output_type": "execute_result"
    }
   ],
   "source": [
    "ross_df"
   ]
  },
  {
   "cell_type": "code",
   "execution_count": 11,
   "id": "favorite-recovery",
   "metadata": {},
   "outputs": [
    {
     "data": {
      "text/html": [
       "<div>\n",
       "<style scoped>\n",
       "    .dataframe tbody tr th:only-of-type {\n",
       "        vertical-align: middle;\n",
       "    }\n",
       "\n",
       "    .dataframe tbody tr th {\n",
       "        vertical-align: top;\n",
       "    }\n",
       "\n",
       "    .dataframe thead th {\n",
       "        text-align: right;\n",
       "    }\n",
       "</style>\n",
       "<table border=\"1\" class=\"dataframe\">\n",
       "  <thead>\n",
       "    <tr style=\"text-align: right;\">\n",
       "      <th></th>\n",
       "      <th>Id</th>\n",
       "      <th>Store</th>\n",
       "      <th>DayOfWeek</th>\n",
       "      <th>Date</th>\n",
       "      <th>Open</th>\n",
       "      <th>Promo</th>\n",
       "      <th>StateHoliday</th>\n",
       "      <th>SchoolHoliday</th>\n",
       "    </tr>\n",
       "  </thead>\n",
       "  <tbody>\n",
       "    <tr>\n",
       "      <th>0</th>\n",
       "      <td>1</td>\n",
       "      <td>1</td>\n",
       "      <td>4</td>\n",
       "      <td>2015-09-17</td>\n",
       "      <td>1.0</td>\n",
       "      <td>1</td>\n",
       "      <td>0</td>\n",
       "      <td>0</td>\n",
       "    </tr>\n",
       "    <tr>\n",
       "      <th>1</th>\n",
       "      <td>2</td>\n",
       "      <td>3</td>\n",
       "      <td>4</td>\n",
       "      <td>2015-09-17</td>\n",
       "      <td>1.0</td>\n",
       "      <td>1</td>\n",
       "      <td>0</td>\n",
       "      <td>0</td>\n",
       "    </tr>\n",
       "    <tr>\n",
       "      <th>2</th>\n",
       "      <td>3</td>\n",
       "      <td>7</td>\n",
       "      <td>4</td>\n",
       "      <td>2015-09-17</td>\n",
       "      <td>1.0</td>\n",
       "      <td>1</td>\n",
       "      <td>0</td>\n",
       "      <td>0</td>\n",
       "    </tr>\n",
       "    <tr>\n",
       "      <th>3</th>\n",
       "      <td>4</td>\n",
       "      <td>8</td>\n",
       "      <td>4</td>\n",
       "      <td>2015-09-17</td>\n",
       "      <td>1.0</td>\n",
       "      <td>1</td>\n",
       "      <td>0</td>\n",
       "      <td>0</td>\n",
       "    </tr>\n",
       "    <tr>\n",
       "      <th>4</th>\n",
       "      <td>5</td>\n",
       "      <td>9</td>\n",
       "      <td>4</td>\n",
       "      <td>2015-09-17</td>\n",
       "      <td>1.0</td>\n",
       "      <td>1</td>\n",
       "      <td>0</td>\n",
       "      <td>0</td>\n",
       "    </tr>\n",
       "    <tr>\n",
       "      <th>...</th>\n",
       "      <td>...</td>\n",
       "      <td>...</td>\n",
       "      <td>...</td>\n",
       "      <td>...</td>\n",
       "      <td>...</td>\n",
       "      <td>...</td>\n",
       "      <td>...</td>\n",
       "      <td>...</td>\n",
       "    </tr>\n",
       "    <tr>\n",
       "      <th>41083</th>\n",
       "      <td>41084</td>\n",
       "      <td>1111</td>\n",
       "      <td>6</td>\n",
       "      <td>2015-08-01</td>\n",
       "      <td>1.0</td>\n",
       "      <td>0</td>\n",
       "      <td>0</td>\n",
       "      <td>0</td>\n",
       "    </tr>\n",
       "    <tr>\n",
       "      <th>41084</th>\n",
       "      <td>41085</td>\n",
       "      <td>1112</td>\n",
       "      <td>6</td>\n",
       "      <td>2015-08-01</td>\n",
       "      <td>1.0</td>\n",
       "      <td>0</td>\n",
       "      <td>0</td>\n",
       "      <td>0</td>\n",
       "    </tr>\n",
       "    <tr>\n",
       "      <th>41085</th>\n",
       "      <td>41086</td>\n",
       "      <td>1113</td>\n",
       "      <td>6</td>\n",
       "      <td>2015-08-01</td>\n",
       "      <td>1.0</td>\n",
       "      <td>0</td>\n",
       "      <td>0</td>\n",
       "      <td>0</td>\n",
       "    </tr>\n",
       "    <tr>\n",
       "      <th>41086</th>\n",
       "      <td>41087</td>\n",
       "      <td>1114</td>\n",
       "      <td>6</td>\n",
       "      <td>2015-08-01</td>\n",
       "      <td>1.0</td>\n",
       "      <td>0</td>\n",
       "      <td>0</td>\n",
       "      <td>0</td>\n",
       "    </tr>\n",
       "    <tr>\n",
       "      <th>41087</th>\n",
       "      <td>41088</td>\n",
       "      <td>1115</td>\n",
       "      <td>6</td>\n",
       "      <td>2015-08-01</td>\n",
       "      <td>1.0</td>\n",
       "      <td>0</td>\n",
       "      <td>0</td>\n",
       "      <td>1</td>\n",
       "    </tr>\n",
       "  </tbody>\n",
       "</table>\n",
       "<p>41088 rows × 8 columns</p>\n",
       "</div>"
      ],
      "text/plain": [
       "          Id  Store  DayOfWeek        Date  Open  Promo StateHoliday  \\\n",
       "0          1      1          4  2015-09-17   1.0      1            0   \n",
       "1          2      3          4  2015-09-17   1.0      1            0   \n",
       "2          3      7          4  2015-09-17   1.0      1            0   \n",
       "3          4      8          4  2015-09-17   1.0      1            0   \n",
       "4          5      9          4  2015-09-17   1.0      1            0   \n",
       "...      ...    ...        ...         ...   ...    ...          ...   \n",
       "41083  41084   1111          6  2015-08-01   1.0      0            0   \n",
       "41084  41085   1112          6  2015-08-01   1.0      0            0   \n",
       "41085  41086   1113          6  2015-08-01   1.0      0            0   \n",
       "41086  41087   1114          6  2015-08-01   1.0      0            0   \n",
       "41087  41088   1115          6  2015-08-01   1.0      0            0   \n",
       "\n",
       "       SchoolHoliday  \n",
       "0                  0  \n",
       "1                  0  \n",
       "2                  0  \n",
       "3                  0  \n",
       "4                  0  \n",
       "...              ...  \n",
       "41083              0  \n",
       "41084              0  \n",
       "41085              0  \n",
       "41086              0  \n",
       "41087              1  \n",
       "\n",
       "[41088 rows x 8 columns]"
      ]
     },
     "execution_count": 11,
     "metadata": {},
     "output_type": "execute_result"
    }
   ],
   "source": [
    "test_df"
   ]
  },
  {
   "cell_type": "code",
   "execution_count": 12,
   "id": "lovely-shelter",
   "metadata": {},
   "outputs": [
    {
     "data": {
      "text/html": [
       "<div>\n",
       "<style scoped>\n",
       "    .dataframe tbody tr th:only-of-type {\n",
       "        vertical-align: middle;\n",
       "    }\n",
       "\n",
       "    .dataframe tbody tr th {\n",
       "        vertical-align: top;\n",
       "    }\n",
       "\n",
       "    .dataframe thead th {\n",
       "        text-align: right;\n",
       "    }\n",
       "</style>\n",
       "<table border=\"1\" class=\"dataframe\">\n",
       "  <thead>\n",
       "    <tr style=\"text-align: right;\">\n",
       "      <th></th>\n",
       "      <th>Id</th>\n",
       "      <th>Sales</th>\n",
       "    </tr>\n",
       "  </thead>\n",
       "  <tbody>\n",
       "    <tr>\n",
       "      <th>0</th>\n",
       "      <td>1</td>\n",
       "      <td>0</td>\n",
       "    </tr>\n",
       "    <tr>\n",
       "      <th>1</th>\n",
       "      <td>2</td>\n",
       "      <td>0</td>\n",
       "    </tr>\n",
       "    <tr>\n",
       "      <th>2</th>\n",
       "      <td>3</td>\n",
       "      <td>0</td>\n",
       "    </tr>\n",
       "    <tr>\n",
       "      <th>3</th>\n",
       "      <td>4</td>\n",
       "      <td>0</td>\n",
       "    </tr>\n",
       "    <tr>\n",
       "      <th>4</th>\n",
       "      <td>5</td>\n",
       "      <td>0</td>\n",
       "    </tr>\n",
       "    <tr>\n",
       "      <th>...</th>\n",
       "      <td>...</td>\n",
       "      <td>...</td>\n",
       "    </tr>\n",
       "    <tr>\n",
       "      <th>41083</th>\n",
       "      <td>41084</td>\n",
       "      <td>0</td>\n",
       "    </tr>\n",
       "    <tr>\n",
       "      <th>41084</th>\n",
       "      <td>41085</td>\n",
       "      <td>0</td>\n",
       "    </tr>\n",
       "    <tr>\n",
       "      <th>41085</th>\n",
       "      <td>41086</td>\n",
       "      <td>0</td>\n",
       "    </tr>\n",
       "    <tr>\n",
       "      <th>41086</th>\n",
       "      <td>41087</td>\n",
       "      <td>0</td>\n",
       "    </tr>\n",
       "    <tr>\n",
       "      <th>41087</th>\n",
       "      <td>41088</td>\n",
       "      <td>0</td>\n",
       "    </tr>\n",
       "  </tbody>\n",
       "</table>\n",
       "<p>41088 rows × 2 columns</p>\n",
       "</div>"
      ],
      "text/plain": [
       "          Id  Sales\n",
       "0          1      0\n",
       "1          2      0\n",
       "2          3      0\n",
       "3          4      0\n",
       "4          5      0\n",
       "...      ...    ...\n",
       "41083  41084      0\n",
       "41084  41085      0\n",
       "41085  41086      0\n",
       "41086  41087      0\n",
       "41087  41088      0\n",
       "\n",
       "[41088 rows x 2 columns]"
      ]
     },
     "execution_count": 12,
     "metadata": {},
     "output_type": "execute_result"
    }
   ],
   "source": [
    "submission_df"
   ]
  },
  {
   "cell_type": "code",
   "execution_count": 13,
   "id": "sustainable-french",
   "metadata": {},
   "outputs": [
    {
     "data": {
      "text/html": [
       "<div>\n",
       "<style scoped>\n",
       "    .dataframe tbody tr th:only-of-type {\n",
       "        vertical-align: middle;\n",
       "    }\n",
       "\n",
       "    .dataframe tbody tr th {\n",
       "        vertical-align: top;\n",
       "    }\n",
       "\n",
       "    .dataframe thead th {\n",
       "        text-align: right;\n",
       "    }\n",
       "</style>\n",
       "<table border=\"1\" class=\"dataframe\">\n",
       "  <thead>\n",
       "    <tr style=\"text-align: right;\">\n",
       "      <th></th>\n",
       "      <th>Store</th>\n",
       "      <th>StoreType</th>\n",
       "      <th>Assortment</th>\n",
       "      <th>CompetitionDistance</th>\n",
       "      <th>CompetitionOpenSinceMonth</th>\n",
       "      <th>CompetitionOpenSinceYear</th>\n",
       "      <th>Promo2</th>\n",
       "      <th>Promo2SinceWeek</th>\n",
       "      <th>Promo2SinceYear</th>\n",
       "      <th>PromoInterval</th>\n",
       "    </tr>\n",
       "  </thead>\n",
       "  <tbody>\n",
       "    <tr>\n",
       "      <th>0</th>\n",
       "      <td>1</td>\n",
       "      <td>c</td>\n",
       "      <td>a</td>\n",
       "      <td>1270.0</td>\n",
       "      <td>9.0</td>\n",
       "      <td>2008.0</td>\n",
       "      <td>0</td>\n",
       "      <td>NaN</td>\n",
       "      <td>NaN</td>\n",
       "      <td>NaN</td>\n",
       "    </tr>\n",
       "    <tr>\n",
       "      <th>1</th>\n",
       "      <td>2</td>\n",
       "      <td>a</td>\n",
       "      <td>a</td>\n",
       "      <td>570.0</td>\n",
       "      <td>11.0</td>\n",
       "      <td>2007.0</td>\n",
       "      <td>1</td>\n",
       "      <td>13.0</td>\n",
       "      <td>2010.0</td>\n",
       "      <td>Jan,Apr,Jul,Oct</td>\n",
       "    </tr>\n",
       "    <tr>\n",
       "      <th>2</th>\n",
       "      <td>3</td>\n",
       "      <td>a</td>\n",
       "      <td>a</td>\n",
       "      <td>14130.0</td>\n",
       "      <td>12.0</td>\n",
       "      <td>2006.0</td>\n",
       "      <td>1</td>\n",
       "      <td>14.0</td>\n",
       "      <td>2011.0</td>\n",
       "      <td>Jan,Apr,Jul,Oct</td>\n",
       "    </tr>\n",
       "    <tr>\n",
       "      <th>3</th>\n",
       "      <td>4</td>\n",
       "      <td>c</td>\n",
       "      <td>c</td>\n",
       "      <td>620.0</td>\n",
       "      <td>9.0</td>\n",
       "      <td>2009.0</td>\n",
       "      <td>0</td>\n",
       "      <td>NaN</td>\n",
       "      <td>NaN</td>\n",
       "      <td>NaN</td>\n",
       "    </tr>\n",
       "    <tr>\n",
       "      <th>4</th>\n",
       "      <td>5</td>\n",
       "      <td>a</td>\n",
       "      <td>a</td>\n",
       "      <td>29910.0</td>\n",
       "      <td>4.0</td>\n",
       "      <td>2015.0</td>\n",
       "      <td>0</td>\n",
       "      <td>NaN</td>\n",
       "      <td>NaN</td>\n",
       "      <td>NaN</td>\n",
       "    </tr>\n",
       "    <tr>\n",
       "      <th>...</th>\n",
       "      <td>...</td>\n",
       "      <td>...</td>\n",
       "      <td>...</td>\n",
       "      <td>...</td>\n",
       "      <td>...</td>\n",
       "      <td>...</td>\n",
       "      <td>...</td>\n",
       "      <td>...</td>\n",
       "      <td>...</td>\n",
       "      <td>...</td>\n",
       "    </tr>\n",
       "    <tr>\n",
       "      <th>1110</th>\n",
       "      <td>1111</td>\n",
       "      <td>a</td>\n",
       "      <td>a</td>\n",
       "      <td>1900.0</td>\n",
       "      <td>6.0</td>\n",
       "      <td>2014.0</td>\n",
       "      <td>1</td>\n",
       "      <td>31.0</td>\n",
       "      <td>2013.0</td>\n",
       "      <td>Jan,Apr,Jul,Oct</td>\n",
       "    </tr>\n",
       "    <tr>\n",
       "      <th>1111</th>\n",
       "      <td>1112</td>\n",
       "      <td>c</td>\n",
       "      <td>c</td>\n",
       "      <td>1880.0</td>\n",
       "      <td>4.0</td>\n",
       "      <td>2006.0</td>\n",
       "      <td>0</td>\n",
       "      <td>NaN</td>\n",
       "      <td>NaN</td>\n",
       "      <td>NaN</td>\n",
       "    </tr>\n",
       "    <tr>\n",
       "      <th>1112</th>\n",
       "      <td>1113</td>\n",
       "      <td>a</td>\n",
       "      <td>c</td>\n",
       "      <td>9260.0</td>\n",
       "      <td>NaN</td>\n",
       "      <td>NaN</td>\n",
       "      <td>0</td>\n",
       "      <td>NaN</td>\n",
       "      <td>NaN</td>\n",
       "      <td>NaN</td>\n",
       "    </tr>\n",
       "    <tr>\n",
       "      <th>1113</th>\n",
       "      <td>1114</td>\n",
       "      <td>a</td>\n",
       "      <td>c</td>\n",
       "      <td>870.0</td>\n",
       "      <td>NaN</td>\n",
       "      <td>NaN</td>\n",
       "      <td>0</td>\n",
       "      <td>NaN</td>\n",
       "      <td>NaN</td>\n",
       "      <td>NaN</td>\n",
       "    </tr>\n",
       "    <tr>\n",
       "      <th>1114</th>\n",
       "      <td>1115</td>\n",
       "      <td>d</td>\n",
       "      <td>c</td>\n",
       "      <td>5350.0</td>\n",
       "      <td>NaN</td>\n",
       "      <td>NaN</td>\n",
       "      <td>1</td>\n",
       "      <td>22.0</td>\n",
       "      <td>2012.0</td>\n",
       "      <td>Mar,Jun,Sept,Dec</td>\n",
       "    </tr>\n",
       "  </tbody>\n",
       "</table>\n",
       "<p>1115 rows × 10 columns</p>\n",
       "</div>"
      ],
      "text/plain": [
       "      Store StoreType Assortment  CompetitionDistance  \\\n",
       "0         1         c          a               1270.0   \n",
       "1         2         a          a                570.0   \n",
       "2         3         a          a              14130.0   \n",
       "3         4         c          c                620.0   \n",
       "4         5         a          a              29910.0   \n",
       "...     ...       ...        ...                  ...   \n",
       "1110   1111         a          a               1900.0   \n",
       "1111   1112         c          c               1880.0   \n",
       "1112   1113         a          c               9260.0   \n",
       "1113   1114         a          c                870.0   \n",
       "1114   1115         d          c               5350.0   \n",
       "\n",
       "      CompetitionOpenSinceMonth  CompetitionOpenSinceYear  Promo2  \\\n",
       "0                           9.0                    2008.0       0   \n",
       "1                          11.0                    2007.0       1   \n",
       "2                          12.0                    2006.0       1   \n",
       "3                           9.0                    2009.0       0   \n",
       "4                           4.0                    2015.0       0   \n",
       "...                         ...                       ...     ...   \n",
       "1110                        6.0                    2014.0       1   \n",
       "1111                        4.0                    2006.0       0   \n",
       "1112                        NaN                       NaN       0   \n",
       "1113                        NaN                       NaN       0   \n",
       "1114                        NaN                       NaN       1   \n",
       "\n",
       "      Promo2SinceWeek  Promo2SinceYear     PromoInterval  \n",
       "0                 NaN              NaN               NaN  \n",
       "1                13.0           2010.0   Jan,Apr,Jul,Oct  \n",
       "2                14.0           2011.0   Jan,Apr,Jul,Oct  \n",
       "3                 NaN              NaN               NaN  \n",
       "4                 NaN              NaN               NaN  \n",
       "...               ...              ...               ...  \n",
       "1110             31.0           2013.0   Jan,Apr,Jul,Oct  \n",
       "1111              NaN              NaN               NaN  \n",
       "1112              NaN              NaN               NaN  \n",
       "1113              NaN              NaN               NaN  \n",
       "1114             22.0           2012.0  Mar,Jun,Sept,Dec  \n",
       "\n",
       "[1115 rows x 10 columns]"
      ]
     },
     "execution_count": 13,
     "metadata": {},
     "output_type": "execute_result"
    }
   ],
   "source": [
    "store_df"
   ]
  },
  {
   "cell_type": "markdown",
   "id": "interracial-conditions",
   "metadata": {},
   "source": [
    "> **EXERCISE**: Read the data description provided on the competition page to understand what the values in each column of `store_df` represent."
   ]
  },
  {
   "cell_type": "code",
   "execution_count": null,
   "id": "every-mambo",
   "metadata": {},
   "outputs": [],
   "source": []
  },
  {
   "cell_type": "markdown",
   "id": "obvious-immune",
   "metadata": {},
   "source": [
    "Let's merge the information from `store_df` into `train_df` and `test_df`."
   ]
  },
  {
   "cell_type": "code",
   "execution_count": 14,
   "id": "weird-tracker",
   "metadata": {},
   "outputs": [],
   "source": [
    "merged_df = ross_df.merge(store_df, how='left', on='Store')\n",
    "merged_test_df = test_df.merge(store_df, how='left', on='Store')"
   ]
  },
  {
   "cell_type": "code",
   "execution_count": 15,
   "id": "solved-actor",
   "metadata": {},
   "outputs": [
    {
     "data": {
      "text/html": [
       "<div>\n",
       "<style scoped>\n",
       "    .dataframe tbody tr th:only-of-type {\n",
       "        vertical-align: middle;\n",
       "    }\n",
       "\n",
       "    .dataframe tbody tr th {\n",
       "        vertical-align: top;\n",
       "    }\n",
       "\n",
       "    .dataframe thead th {\n",
       "        text-align: right;\n",
       "    }\n",
       "</style>\n",
       "<table border=\"1\" class=\"dataframe\">\n",
       "  <thead>\n",
       "    <tr style=\"text-align: right;\">\n",
       "      <th></th>\n",
       "      <th>Store</th>\n",
       "      <th>DayOfWeek</th>\n",
       "      <th>Date</th>\n",
       "      <th>Sales</th>\n",
       "      <th>Customers</th>\n",
       "      <th>Open</th>\n",
       "      <th>Promo</th>\n",
       "      <th>StateHoliday</th>\n",
       "      <th>SchoolHoliday</th>\n",
       "      <th>StoreType</th>\n",
       "      <th>Assortment</th>\n",
       "      <th>CompetitionDistance</th>\n",
       "      <th>CompetitionOpenSinceMonth</th>\n",
       "      <th>CompetitionOpenSinceYear</th>\n",
       "      <th>Promo2</th>\n",
       "      <th>Promo2SinceWeek</th>\n",
       "      <th>Promo2SinceYear</th>\n",
       "      <th>PromoInterval</th>\n",
       "    </tr>\n",
       "  </thead>\n",
       "  <tbody>\n",
       "    <tr>\n",
       "      <th>0</th>\n",
       "      <td>1</td>\n",
       "      <td>5</td>\n",
       "      <td>2015-07-31</td>\n",
       "      <td>5263</td>\n",
       "      <td>555</td>\n",
       "      <td>1</td>\n",
       "      <td>1</td>\n",
       "      <td>0</td>\n",
       "      <td>1</td>\n",
       "      <td>c</td>\n",
       "      <td>a</td>\n",
       "      <td>1270.0</td>\n",
       "      <td>9.0</td>\n",
       "      <td>2008.0</td>\n",
       "      <td>0</td>\n",
       "      <td>NaN</td>\n",
       "      <td>NaN</td>\n",
       "      <td>NaN</td>\n",
       "    </tr>\n",
       "    <tr>\n",
       "      <th>1</th>\n",
       "      <td>2</td>\n",
       "      <td>5</td>\n",
       "      <td>2015-07-31</td>\n",
       "      <td>6064</td>\n",
       "      <td>625</td>\n",
       "      <td>1</td>\n",
       "      <td>1</td>\n",
       "      <td>0</td>\n",
       "      <td>1</td>\n",
       "      <td>a</td>\n",
       "      <td>a</td>\n",
       "      <td>570.0</td>\n",
       "      <td>11.0</td>\n",
       "      <td>2007.0</td>\n",
       "      <td>1</td>\n",
       "      <td>13.0</td>\n",
       "      <td>2010.0</td>\n",
       "      <td>Jan,Apr,Jul,Oct</td>\n",
       "    </tr>\n",
       "    <tr>\n",
       "      <th>2</th>\n",
       "      <td>3</td>\n",
       "      <td>5</td>\n",
       "      <td>2015-07-31</td>\n",
       "      <td>8314</td>\n",
       "      <td>821</td>\n",
       "      <td>1</td>\n",
       "      <td>1</td>\n",
       "      <td>0</td>\n",
       "      <td>1</td>\n",
       "      <td>a</td>\n",
       "      <td>a</td>\n",
       "      <td>14130.0</td>\n",
       "      <td>12.0</td>\n",
       "      <td>2006.0</td>\n",
       "      <td>1</td>\n",
       "      <td>14.0</td>\n",
       "      <td>2011.0</td>\n",
       "      <td>Jan,Apr,Jul,Oct</td>\n",
       "    </tr>\n",
       "    <tr>\n",
       "      <th>3</th>\n",
       "      <td>4</td>\n",
       "      <td>5</td>\n",
       "      <td>2015-07-31</td>\n",
       "      <td>13995</td>\n",
       "      <td>1498</td>\n",
       "      <td>1</td>\n",
       "      <td>1</td>\n",
       "      <td>0</td>\n",
       "      <td>1</td>\n",
       "      <td>c</td>\n",
       "      <td>c</td>\n",
       "      <td>620.0</td>\n",
       "      <td>9.0</td>\n",
       "      <td>2009.0</td>\n",
       "      <td>0</td>\n",
       "      <td>NaN</td>\n",
       "      <td>NaN</td>\n",
       "      <td>NaN</td>\n",
       "    </tr>\n",
       "    <tr>\n",
       "      <th>4</th>\n",
       "      <td>5</td>\n",
       "      <td>5</td>\n",
       "      <td>2015-07-31</td>\n",
       "      <td>4822</td>\n",
       "      <td>559</td>\n",
       "      <td>1</td>\n",
       "      <td>1</td>\n",
       "      <td>0</td>\n",
       "      <td>1</td>\n",
       "      <td>a</td>\n",
       "      <td>a</td>\n",
       "      <td>29910.0</td>\n",
       "      <td>4.0</td>\n",
       "      <td>2015.0</td>\n",
       "      <td>0</td>\n",
       "      <td>NaN</td>\n",
       "      <td>NaN</td>\n",
       "      <td>NaN</td>\n",
       "    </tr>\n",
       "    <tr>\n",
       "      <th>...</th>\n",
       "      <td>...</td>\n",
       "      <td>...</td>\n",
       "      <td>...</td>\n",
       "      <td>...</td>\n",
       "      <td>...</td>\n",
       "      <td>...</td>\n",
       "      <td>...</td>\n",
       "      <td>...</td>\n",
       "      <td>...</td>\n",
       "      <td>...</td>\n",
       "      <td>...</td>\n",
       "      <td>...</td>\n",
       "      <td>...</td>\n",
       "      <td>...</td>\n",
       "      <td>...</td>\n",
       "      <td>...</td>\n",
       "      <td>...</td>\n",
       "      <td>...</td>\n",
       "    </tr>\n",
       "    <tr>\n",
       "      <th>1017204</th>\n",
       "      <td>1111</td>\n",
       "      <td>2</td>\n",
       "      <td>2013-01-01</td>\n",
       "      <td>0</td>\n",
       "      <td>0</td>\n",
       "      <td>0</td>\n",
       "      <td>0</td>\n",
       "      <td>a</td>\n",
       "      <td>1</td>\n",
       "      <td>a</td>\n",
       "      <td>a</td>\n",
       "      <td>1900.0</td>\n",
       "      <td>6.0</td>\n",
       "      <td>2014.0</td>\n",
       "      <td>1</td>\n",
       "      <td>31.0</td>\n",
       "      <td>2013.0</td>\n",
       "      <td>Jan,Apr,Jul,Oct</td>\n",
       "    </tr>\n",
       "    <tr>\n",
       "      <th>1017205</th>\n",
       "      <td>1112</td>\n",
       "      <td>2</td>\n",
       "      <td>2013-01-01</td>\n",
       "      <td>0</td>\n",
       "      <td>0</td>\n",
       "      <td>0</td>\n",
       "      <td>0</td>\n",
       "      <td>a</td>\n",
       "      <td>1</td>\n",
       "      <td>c</td>\n",
       "      <td>c</td>\n",
       "      <td>1880.0</td>\n",
       "      <td>4.0</td>\n",
       "      <td>2006.0</td>\n",
       "      <td>0</td>\n",
       "      <td>NaN</td>\n",
       "      <td>NaN</td>\n",
       "      <td>NaN</td>\n",
       "    </tr>\n",
       "    <tr>\n",
       "      <th>1017206</th>\n",
       "      <td>1113</td>\n",
       "      <td>2</td>\n",
       "      <td>2013-01-01</td>\n",
       "      <td>0</td>\n",
       "      <td>0</td>\n",
       "      <td>0</td>\n",
       "      <td>0</td>\n",
       "      <td>a</td>\n",
       "      <td>1</td>\n",
       "      <td>a</td>\n",
       "      <td>c</td>\n",
       "      <td>9260.0</td>\n",
       "      <td>NaN</td>\n",
       "      <td>NaN</td>\n",
       "      <td>0</td>\n",
       "      <td>NaN</td>\n",
       "      <td>NaN</td>\n",
       "      <td>NaN</td>\n",
       "    </tr>\n",
       "    <tr>\n",
       "      <th>1017207</th>\n",
       "      <td>1114</td>\n",
       "      <td>2</td>\n",
       "      <td>2013-01-01</td>\n",
       "      <td>0</td>\n",
       "      <td>0</td>\n",
       "      <td>0</td>\n",
       "      <td>0</td>\n",
       "      <td>a</td>\n",
       "      <td>1</td>\n",
       "      <td>a</td>\n",
       "      <td>c</td>\n",
       "      <td>870.0</td>\n",
       "      <td>NaN</td>\n",
       "      <td>NaN</td>\n",
       "      <td>0</td>\n",
       "      <td>NaN</td>\n",
       "      <td>NaN</td>\n",
       "      <td>NaN</td>\n",
       "    </tr>\n",
       "    <tr>\n",
       "      <th>1017208</th>\n",
       "      <td>1115</td>\n",
       "      <td>2</td>\n",
       "      <td>2013-01-01</td>\n",
       "      <td>0</td>\n",
       "      <td>0</td>\n",
       "      <td>0</td>\n",
       "      <td>0</td>\n",
       "      <td>a</td>\n",
       "      <td>1</td>\n",
       "      <td>d</td>\n",
       "      <td>c</td>\n",
       "      <td>5350.0</td>\n",
       "      <td>NaN</td>\n",
       "      <td>NaN</td>\n",
       "      <td>1</td>\n",
       "      <td>22.0</td>\n",
       "      <td>2012.0</td>\n",
       "      <td>Mar,Jun,Sept,Dec</td>\n",
       "    </tr>\n",
       "  </tbody>\n",
       "</table>\n",
       "<p>1017209 rows × 18 columns</p>\n",
       "</div>"
      ],
      "text/plain": [
       "         Store  DayOfWeek        Date  Sales  Customers  Open  Promo  \\\n",
       "0            1          5  2015-07-31   5263        555     1      1   \n",
       "1            2          5  2015-07-31   6064        625     1      1   \n",
       "2            3          5  2015-07-31   8314        821     1      1   \n",
       "3            4          5  2015-07-31  13995       1498     1      1   \n",
       "4            5          5  2015-07-31   4822        559     1      1   \n",
       "...        ...        ...         ...    ...        ...   ...    ...   \n",
       "1017204   1111          2  2013-01-01      0          0     0      0   \n",
       "1017205   1112          2  2013-01-01      0          0     0      0   \n",
       "1017206   1113          2  2013-01-01      0          0     0      0   \n",
       "1017207   1114          2  2013-01-01      0          0     0      0   \n",
       "1017208   1115          2  2013-01-01      0          0     0      0   \n",
       "\n",
       "        StateHoliday  SchoolHoliday StoreType Assortment  CompetitionDistance  \\\n",
       "0                  0              1         c          a               1270.0   \n",
       "1                  0              1         a          a                570.0   \n",
       "2                  0              1         a          a              14130.0   \n",
       "3                  0              1         c          c                620.0   \n",
       "4                  0              1         a          a              29910.0   \n",
       "...              ...            ...       ...        ...                  ...   \n",
       "1017204            a              1         a          a               1900.0   \n",
       "1017205            a              1         c          c               1880.0   \n",
       "1017206            a              1         a          c               9260.0   \n",
       "1017207            a              1         a          c                870.0   \n",
       "1017208            a              1         d          c               5350.0   \n",
       "\n",
       "         CompetitionOpenSinceMonth  CompetitionOpenSinceYear  Promo2  \\\n",
       "0                              9.0                    2008.0       0   \n",
       "1                             11.0                    2007.0       1   \n",
       "2                             12.0                    2006.0       1   \n",
       "3                              9.0                    2009.0       0   \n",
       "4                              4.0                    2015.0       0   \n",
       "...                            ...                       ...     ...   \n",
       "1017204                        6.0                    2014.0       1   \n",
       "1017205                        4.0                    2006.0       0   \n",
       "1017206                        NaN                       NaN       0   \n",
       "1017207                        NaN                       NaN       0   \n",
       "1017208                        NaN                       NaN       1   \n",
       "\n",
       "         Promo2SinceWeek  Promo2SinceYear     PromoInterval  \n",
       "0                    NaN              NaN               NaN  \n",
       "1                   13.0           2010.0   Jan,Apr,Jul,Oct  \n",
       "2                   14.0           2011.0   Jan,Apr,Jul,Oct  \n",
       "3                    NaN              NaN               NaN  \n",
       "4                    NaN              NaN               NaN  \n",
       "...                  ...              ...               ...  \n",
       "1017204             31.0           2013.0   Jan,Apr,Jul,Oct  \n",
       "1017205              NaN              NaN               NaN  \n",
       "1017206              NaN              NaN               NaN  \n",
       "1017207              NaN              NaN               NaN  \n",
       "1017208             22.0           2012.0  Mar,Jun,Sept,Dec  \n",
       "\n",
       "[1017209 rows x 18 columns]"
      ]
     },
     "execution_count": 15,
     "metadata": {},
     "output_type": "execute_result"
    }
   ],
   "source": [
    "merged_df"
   ]
  },
  {
   "cell_type": "markdown",
   "id": "pursuant-incident",
   "metadata": {},
   "source": [
    "> **EXERCISE**: Perform exploratory data analysis and visualization on the dataset. Study the distribution of values in each column, and their relationship with the target column `Sales`."
   ]
  },
  {
   "cell_type": "code",
   "execution_count": null,
   "id": "chubby-variable",
   "metadata": {},
   "outputs": [],
   "source": []
  },
  {
   "cell_type": "code",
   "execution_count": null,
   "id": "twelve-pastor",
   "metadata": {},
   "outputs": [],
   "source": []
  },
  {
   "cell_type": "markdown",
   "id": "confidential-identity",
   "metadata": {},
   "source": [
    "Let's save our work before continuing."
   ]
  },
  {
   "cell_type": "markdown",
   "id": "juvenile-lying",
   "metadata": {},
   "source": [
    "## Preprocessing and Feature Engineering\n",
    "\n",
    "Let's take a look at the available columns, and figure out if we can create new columns or apply any useful transformations."
   ]
  },
  {
   "cell_type": "code",
   "execution_count": 18,
   "id": "short-floor",
   "metadata": {},
   "outputs": [
    {
     "name": "stdout",
     "output_type": "stream",
     "text": [
      "<class 'pandas.core.frame.DataFrame'>\n",
      "Int64Index: 1017209 entries, 0 to 1017208\n",
      "Data columns (total 18 columns):\n",
      " #   Column                     Non-Null Count    Dtype  \n",
      "---  ------                     --------------    -----  \n",
      " 0   Store                      1017209 non-null  int64  \n",
      " 1   DayOfWeek                  1017209 non-null  int64  \n",
      " 2   Date                       1017209 non-null  object \n",
      " 3   Sales                      1017209 non-null  int64  \n",
      " 4   Customers                  1017209 non-null  int64  \n",
      " 5   Open                       1017209 non-null  int64  \n",
      " 6   Promo                      1017209 non-null  int64  \n",
      " 7   StateHoliday               1017209 non-null  object \n",
      " 8   SchoolHoliday              1017209 non-null  int64  \n",
      " 9   StoreType                  1017209 non-null  object \n",
      " 10  Assortment                 1017209 non-null  object \n",
      " 11  CompetitionDistance        1014567 non-null  float64\n",
      " 12  CompetitionOpenSinceMonth  693861 non-null   float64\n",
      " 13  CompetitionOpenSinceYear   693861 non-null   float64\n",
      " 14  Promo2                     1017209 non-null  int64  \n",
      " 15  Promo2SinceWeek            509178 non-null   float64\n",
      " 16  Promo2SinceYear            509178 non-null   float64\n",
      " 17  PromoInterval              509178 non-null   object \n",
      "dtypes: float64(5), int64(8), object(5)\n",
      "memory usage: 147.5+ MB\n"
     ]
    }
   ],
   "source": [
    "merged_df.info()"
   ]
  },
  {
   "cell_type": "markdown",
   "id": "anonymous-vermont",
   "metadata": {},
   "source": [
    "\n",
    "### Date\n",
    "\n",
    "First, let's convert `Date` to a `datetime` column and extract different parts of the date."
   ]
  },
  {
   "cell_type": "code",
   "execution_count": 19,
   "id": "driving-ecuador",
   "metadata": {},
   "outputs": [],
   "source": [
    "def split_date(df):\n",
    "    df['Date'] = pd.to_datetime(df['Date'])\n",
    "    df['Year'] = df.Date.dt.year\n",
    "    df['Month'] = df.Date.dt.month\n",
    "    df['Day'] = df.Date.dt.day\n",
    "    df['WeekOfYear'] = df.Date.dt.isocalendar().week"
   ]
  },
  {
   "cell_type": "code",
   "execution_count": 20,
   "id": "banned-daughter",
   "metadata": {},
   "outputs": [],
   "source": [
    "split_date(merged_df)\n",
    "split_date(merged_test_df)"
   ]
  },
  {
   "cell_type": "code",
   "execution_count": 21,
   "id": "smooth-vegetarian",
   "metadata": {},
   "outputs": [
    {
     "data": {
      "text/html": [
       "<div>\n",
       "<style scoped>\n",
       "    .dataframe tbody tr th:only-of-type {\n",
       "        vertical-align: middle;\n",
       "    }\n",
       "\n",
       "    .dataframe tbody tr th {\n",
       "        vertical-align: top;\n",
       "    }\n",
       "\n",
       "    .dataframe thead th {\n",
       "        text-align: right;\n",
       "    }\n",
       "</style>\n",
       "<table border=\"1\" class=\"dataframe\">\n",
       "  <thead>\n",
       "    <tr style=\"text-align: right;\">\n",
       "      <th></th>\n",
       "      <th>Store</th>\n",
       "      <th>DayOfWeek</th>\n",
       "      <th>Date</th>\n",
       "      <th>Sales</th>\n",
       "      <th>Customers</th>\n",
       "      <th>Open</th>\n",
       "      <th>Promo</th>\n",
       "      <th>StateHoliday</th>\n",
       "      <th>SchoolHoliday</th>\n",
       "      <th>StoreType</th>\n",
       "      <th>Assortment</th>\n",
       "      <th>CompetitionDistance</th>\n",
       "      <th>CompetitionOpenSinceMonth</th>\n",
       "      <th>CompetitionOpenSinceYear</th>\n",
       "      <th>Promo2</th>\n",
       "      <th>Promo2SinceWeek</th>\n",
       "      <th>Promo2SinceYear</th>\n",
       "      <th>PromoInterval</th>\n",
       "      <th>Year</th>\n",
       "      <th>Month</th>\n",
       "      <th>Day</th>\n",
       "      <th>WeekOfYear</th>\n",
       "    </tr>\n",
       "  </thead>\n",
       "  <tbody>\n",
       "    <tr>\n",
       "      <th>0</th>\n",
       "      <td>1</td>\n",
       "      <td>5</td>\n",
       "      <td>2015-07-31</td>\n",
       "      <td>5263</td>\n",
       "      <td>555</td>\n",
       "      <td>1</td>\n",
       "      <td>1</td>\n",
       "      <td>0</td>\n",
       "      <td>1</td>\n",
       "      <td>c</td>\n",
       "      <td>a</td>\n",
       "      <td>1270.0</td>\n",
       "      <td>9.0</td>\n",
       "      <td>2008.0</td>\n",
       "      <td>0</td>\n",
       "      <td>NaN</td>\n",
       "      <td>NaN</td>\n",
       "      <td>NaN</td>\n",
       "      <td>2015</td>\n",
       "      <td>7</td>\n",
       "      <td>31</td>\n",
       "      <td>31</td>\n",
       "    </tr>\n",
       "    <tr>\n",
       "      <th>1</th>\n",
       "      <td>2</td>\n",
       "      <td>5</td>\n",
       "      <td>2015-07-31</td>\n",
       "      <td>6064</td>\n",
       "      <td>625</td>\n",
       "      <td>1</td>\n",
       "      <td>1</td>\n",
       "      <td>0</td>\n",
       "      <td>1</td>\n",
       "      <td>a</td>\n",
       "      <td>a</td>\n",
       "      <td>570.0</td>\n",
       "      <td>11.0</td>\n",
       "      <td>2007.0</td>\n",
       "      <td>1</td>\n",
       "      <td>13.0</td>\n",
       "      <td>2010.0</td>\n",
       "      <td>Jan,Apr,Jul,Oct</td>\n",
       "      <td>2015</td>\n",
       "      <td>7</td>\n",
       "      <td>31</td>\n",
       "      <td>31</td>\n",
       "    </tr>\n",
       "    <tr>\n",
       "      <th>2</th>\n",
       "      <td>3</td>\n",
       "      <td>5</td>\n",
       "      <td>2015-07-31</td>\n",
       "      <td>8314</td>\n",
       "      <td>821</td>\n",
       "      <td>1</td>\n",
       "      <td>1</td>\n",
       "      <td>0</td>\n",
       "      <td>1</td>\n",
       "      <td>a</td>\n",
       "      <td>a</td>\n",
       "      <td>14130.0</td>\n",
       "      <td>12.0</td>\n",
       "      <td>2006.0</td>\n",
       "      <td>1</td>\n",
       "      <td>14.0</td>\n",
       "      <td>2011.0</td>\n",
       "      <td>Jan,Apr,Jul,Oct</td>\n",
       "      <td>2015</td>\n",
       "      <td>7</td>\n",
       "      <td>31</td>\n",
       "      <td>31</td>\n",
       "    </tr>\n",
       "    <tr>\n",
       "      <th>3</th>\n",
       "      <td>4</td>\n",
       "      <td>5</td>\n",
       "      <td>2015-07-31</td>\n",
       "      <td>13995</td>\n",
       "      <td>1498</td>\n",
       "      <td>1</td>\n",
       "      <td>1</td>\n",
       "      <td>0</td>\n",
       "      <td>1</td>\n",
       "      <td>c</td>\n",
       "      <td>c</td>\n",
       "      <td>620.0</td>\n",
       "      <td>9.0</td>\n",
       "      <td>2009.0</td>\n",
       "      <td>0</td>\n",
       "      <td>NaN</td>\n",
       "      <td>NaN</td>\n",
       "      <td>NaN</td>\n",
       "      <td>2015</td>\n",
       "      <td>7</td>\n",
       "      <td>31</td>\n",
       "      <td>31</td>\n",
       "    </tr>\n",
       "    <tr>\n",
       "      <th>4</th>\n",
       "      <td>5</td>\n",
       "      <td>5</td>\n",
       "      <td>2015-07-31</td>\n",
       "      <td>4822</td>\n",
       "      <td>559</td>\n",
       "      <td>1</td>\n",
       "      <td>1</td>\n",
       "      <td>0</td>\n",
       "      <td>1</td>\n",
       "      <td>a</td>\n",
       "      <td>a</td>\n",
       "      <td>29910.0</td>\n",
       "      <td>4.0</td>\n",
       "      <td>2015.0</td>\n",
       "      <td>0</td>\n",
       "      <td>NaN</td>\n",
       "      <td>NaN</td>\n",
       "      <td>NaN</td>\n",
       "      <td>2015</td>\n",
       "      <td>7</td>\n",
       "      <td>31</td>\n",
       "      <td>31</td>\n",
       "    </tr>\n",
       "    <tr>\n",
       "      <th>...</th>\n",
       "      <td>...</td>\n",
       "      <td>...</td>\n",
       "      <td>...</td>\n",
       "      <td>...</td>\n",
       "      <td>...</td>\n",
       "      <td>...</td>\n",
       "      <td>...</td>\n",
       "      <td>...</td>\n",
       "      <td>...</td>\n",
       "      <td>...</td>\n",
       "      <td>...</td>\n",
       "      <td>...</td>\n",
       "      <td>...</td>\n",
       "      <td>...</td>\n",
       "      <td>...</td>\n",
       "      <td>...</td>\n",
       "      <td>...</td>\n",
       "      <td>...</td>\n",
       "      <td>...</td>\n",
       "      <td>...</td>\n",
       "      <td>...</td>\n",
       "      <td>...</td>\n",
       "    </tr>\n",
       "    <tr>\n",
       "      <th>1017204</th>\n",
       "      <td>1111</td>\n",
       "      <td>2</td>\n",
       "      <td>2013-01-01</td>\n",
       "      <td>0</td>\n",
       "      <td>0</td>\n",
       "      <td>0</td>\n",
       "      <td>0</td>\n",
       "      <td>a</td>\n",
       "      <td>1</td>\n",
       "      <td>a</td>\n",
       "      <td>a</td>\n",
       "      <td>1900.0</td>\n",
       "      <td>6.0</td>\n",
       "      <td>2014.0</td>\n",
       "      <td>1</td>\n",
       "      <td>31.0</td>\n",
       "      <td>2013.0</td>\n",
       "      <td>Jan,Apr,Jul,Oct</td>\n",
       "      <td>2013</td>\n",
       "      <td>1</td>\n",
       "      <td>1</td>\n",
       "      <td>1</td>\n",
       "    </tr>\n",
       "    <tr>\n",
       "      <th>1017205</th>\n",
       "      <td>1112</td>\n",
       "      <td>2</td>\n",
       "      <td>2013-01-01</td>\n",
       "      <td>0</td>\n",
       "      <td>0</td>\n",
       "      <td>0</td>\n",
       "      <td>0</td>\n",
       "      <td>a</td>\n",
       "      <td>1</td>\n",
       "      <td>c</td>\n",
       "      <td>c</td>\n",
       "      <td>1880.0</td>\n",
       "      <td>4.0</td>\n",
       "      <td>2006.0</td>\n",
       "      <td>0</td>\n",
       "      <td>NaN</td>\n",
       "      <td>NaN</td>\n",
       "      <td>NaN</td>\n",
       "      <td>2013</td>\n",
       "      <td>1</td>\n",
       "      <td>1</td>\n",
       "      <td>1</td>\n",
       "    </tr>\n",
       "    <tr>\n",
       "      <th>1017206</th>\n",
       "      <td>1113</td>\n",
       "      <td>2</td>\n",
       "      <td>2013-01-01</td>\n",
       "      <td>0</td>\n",
       "      <td>0</td>\n",
       "      <td>0</td>\n",
       "      <td>0</td>\n",
       "      <td>a</td>\n",
       "      <td>1</td>\n",
       "      <td>a</td>\n",
       "      <td>c</td>\n",
       "      <td>9260.0</td>\n",
       "      <td>NaN</td>\n",
       "      <td>NaN</td>\n",
       "      <td>0</td>\n",
       "      <td>NaN</td>\n",
       "      <td>NaN</td>\n",
       "      <td>NaN</td>\n",
       "      <td>2013</td>\n",
       "      <td>1</td>\n",
       "      <td>1</td>\n",
       "      <td>1</td>\n",
       "    </tr>\n",
       "    <tr>\n",
       "      <th>1017207</th>\n",
       "      <td>1114</td>\n",
       "      <td>2</td>\n",
       "      <td>2013-01-01</td>\n",
       "      <td>0</td>\n",
       "      <td>0</td>\n",
       "      <td>0</td>\n",
       "      <td>0</td>\n",
       "      <td>a</td>\n",
       "      <td>1</td>\n",
       "      <td>a</td>\n",
       "      <td>c</td>\n",
       "      <td>870.0</td>\n",
       "      <td>NaN</td>\n",
       "      <td>NaN</td>\n",
       "      <td>0</td>\n",
       "      <td>NaN</td>\n",
       "      <td>NaN</td>\n",
       "      <td>NaN</td>\n",
       "      <td>2013</td>\n",
       "      <td>1</td>\n",
       "      <td>1</td>\n",
       "      <td>1</td>\n",
       "    </tr>\n",
       "    <tr>\n",
       "      <th>1017208</th>\n",
       "      <td>1115</td>\n",
       "      <td>2</td>\n",
       "      <td>2013-01-01</td>\n",
       "      <td>0</td>\n",
       "      <td>0</td>\n",
       "      <td>0</td>\n",
       "      <td>0</td>\n",
       "      <td>a</td>\n",
       "      <td>1</td>\n",
       "      <td>d</td>\n",
       "      <td>c</td>\n",
       "      <td>5350.0</td>\n",
       "      <td>NaN</td>\n",
       "      <td>NaN</td>\n",
       "      <td>1</td>\n",
       "      <td>22.0</td>\n",
       "      <td>2012.0</td>\n",
       "      <td>Mar,Jun,Sept,Dec</td>\n",
       "      <td>2013</td>\n",
       "      <td>1</td>\n",
       "      <td>1</td>\n",
       "      <td>1</td>\n",
       "    </tr>\n",
       "  </tbody>\n",
       "</table>\n",
       "<p>1017209 rows × 22 columns</p>\n",
       "</div>"
      ],
      "text/plain": [
       "         Store  DayOfWeek       Date  Sales  Customers  Open  Promo  \\\n",
       "0            1          5 2015-07-31   5263        555     1      1   \n",
       "1            2          5 2015-07-31   6064        625     1      1   \n",
       "2            3          5 2015-07-31   8314        821     1      1   \n",
       "3            4          5 2015-07-31  13995       1498     1      1   \n",
       "4            5          5 2015-07-31   4822        559     1      1   \n",
       "...        ...        ...        ...    ...        ...   ...    ...   \n",
       "1017204   1111          2 2013-01-01      0          0     0      0   \n",
       "1017205   1112          2 2013-01-01      0          0     0      0   \n",
       "1017206   1113          2 2013-01-01      0          0     0      0   \n",
       "1017207   1114          2 2013-01-01      0          0     0      0   \n",
       "1017208   1115          2 2013-01-01      0          0     0      0   \n",
       "\n",
       "        StateHoliday  SchoolHoliday StoreType Assortment  CompetitionDistance  \\\n",
       "0                  0              1         c          a               1270.0   \n",
       "1                  0              1         a          a                570.0   \n",
       "2                  0              1         a          a              14130.0   \n",
       "3                  0              1         c          c                620.0   \n",
       "4                  0              1         a          a              29910.0   \n",
       "...              ...            ...       ...        ...                  ...   \n",
       "1017204            a              1         a          a               1900.0   \n",
       "1017205            a              1         c          c               1880.0   \n",
       "1017206            a              1         a          c               9260.0   \n",
       "1017207            a              1         a          c                870.0   \n",
       "1017208            a              1         d          c               5350.0   \n",
       "\n",
       "         CompetitionOpenSinceMonth  CompetitionOpenSinceYear  Promo2  \\\n",
       "0                              9.0                    2008.0       0   \n",
       "1                             11.0                    2007.0       1   \n",
       "2                             12.0                    2006.0       1   \n",
       "3                              9.0                    2009.0       0   \n",
       "4                              4.0                    2015.0       0   \n",
       "...                            ...                       ...     ...   \n",
       "1017204                        6.0                    2014.0       1   \n",
       "1017205                        4.0                    2006.0       0   \n",
       "1017206                        NaN                       NaN       0   \n",
       "1017207                        NaN                       NaN       0   \n",
       "1017208                        NaN                       NaN       1   \n",
       "\n",
       "         Promo2SinceWeek  Promo2SinceYear     PromoInterval  Year  Month  Day  \\\n",
       "0                    NaN              NaN               NaN  2015      7   31   \n",
       "1                   13.0           2010.0   Jan,Apr,Jul,Oct  2015      7   31   \n",
       "2                   14.0           2011.0   Jan,Apr,Jul,Oct  2015      7   31   \n",
       "3                    NaN              NaN               NaN  2015      7   31   \n",
       "4                    NaN              NaN               NaN  2015      7   31   \n",
       "...                  ...              ...               ...   ...    ...  ...   \n",
       "1017204             31.0           2013.0   Jan,Apr,Jul,Oct  2013      1    1   \n",
       "1017205              NaN              NaN               NaN  2013      1    1   \n",
       "1017206              NaN              NaN               NaN  2013      1    1   \n",
       "1017207              NaN              NaN               NaN  2013      1    1   \n",
       "1017208             22.0           2012.0  Mar,Jun,Sept,Dec  2013      1    1   \n",
       "\n",
       "         WeekOfYear  \n",
       "0                31  \n",
       "1                31  \n",
       "2                31  \n",
       "3                31  \n",
       "4                31  \n",
       "...             ...  \n",
       "1017204           1  \n",
       "1017205           1  \n",
       "1017206           1  \n",
       "1017207           1  \n",
       "1017208           1  \n",
       "\n",
       "[1017209 rows x 22 columns]"
      ]
     },
     "execution_count": 21,
     "metadata": {},
     "output_type": "execute_result"
    }
   ],
   "source": [
    "merged_df"
   ]
  },
  {
   "cell_type": "markdown",
   "id": "accredited-behavior",
   "metadata": {},
   "source": [
    "### Store Open/Closed\n",
    "\n",
    "Next, notice that the sales are zero whenever the store is closed."
   ]
  },
  {
   "cell_type": "code",
   "execution_count": 22,
   "id": "middle-handy",
   "metadata": {},
   "outputs": [
    {
     "data": {
      "text/plain": [
       "0    172817\n",
       "Name: Sales, dtype: int64"
      ]
     },
     "execution_count": 22,
     "metadata": {},
     "output_type": "execute_result"
    }
   ],
   "source": [
    "merged_df[merged_df.Open == 0].Sales.value_counts()"
   ]
  },
  {
   "cell_type": "markdown",
   "id": "partial-mount",
   "metadata": {},
   "source": [
    "Instead of trying to model this relationship, it would be better to hard-code it in our predictions, and remove the rows where the store is closed. We won't remove any rows from the test set, since we need to make predictions for every row."
   ]
  },
  {
   "cell_type": "code",
   "execution_count": 23,
   "id": "wooden-fifteen",
   "metadata": {},
   "outputs": [],
   "source": [
    "merged_df = merged_df[merged_df.Open == 1].copy()"
   ]
  },
  {
   "cell_type": "markdown",
   "id": "cardiovascular-giving",
   "metadata": {},
   "source": [
    "### Competition\n",
    "\n",
    "Next, we can use the columns `CompetitionOpenSince[Month/Year]` columns from `store_df` to compute the number of months for which a competitor has been open near the store."
   ]
  },
  {
   "cell_type": "code",
   "execution_count": 24,
   "id": "interim-avatar",
   "metadata": {},
   "outputs": [],
   "source": [
    "def comp_months(df):\n",
    "    df['CompetitionOpen'] = 12 * (df.Year - df.CompetitionOpenSinceYear) + (df.Month - df.CompetitionOpenSinceMonth)\n",
    "    df['CompetitionOpen'] = df['CompetitionOpen'].map(lambda x: 0 if x < 0 else x).fillna(0)"
   ]
  },
  {
   "cell_type": "code",
   "execution_count": 25,
   "id": "separate-confirmation",
   "metadata": {},
   "outputs": [],
   "source": [
    "comp_months(merged_df)\n",
    "comp_months(merged_test_df)"
   ]
  },
  {
   "cell_type": "code",
   "execution_count": 26,
   "id": "numerical-concept",
   "metadata": {},
   "outputs": [
    {
     "data": {
      "text/html": [
       "<div>\n",
       "<style scoped>\n",
       "    .dataframe tbody tr th:only-of-type {\n",
       "        vertical-align: middle;\n",
       "    }\n",
       "\n",
       "    .dataframe tbody tr th {\n",
       "        vertical-align: top;\n",
       "    }\n",
       "\n",
       "    .dataframe thead th {\n",
       "        text-align: right;\n",
       "    }\n",
       "</style>\n",
       "<table border=\"1\" class=\"dataframe\">\n",
       "  <thead>\n",
       "    <tr style=\"text-align: right;\">\n",
       "      <th></th>\n",
       "      <th>Store</th>\n",
       "      <th>DayOfWeek</th>\n",
       "      <th>Date</th>\n",
       "      <th>Sales</th>\n",
       "      <th>Customers</th>\n",
       "      <th>Open</th>\n",
       "      <th>Promo</th>\n",
       "      <th>StateHoliday</th>\n",
       "      <th>SchoolHoliday</th>\n",
       "      <th>StoreType</th>\n",
       "      <th>Assortment</th>\n",
       "      <th>CompetitionDistance</th>\n",
       "      <th>CompetitionOpenSinceMonth</th>\n",
       "      <th>CompetitionOpenSinceYear</th>\n",
       "      <th>Promo2</th>\n",
       "      <th>Promo2SinceWeek</th>\n",
       "      <th>Promo2SinceYear</th>\n",
       "      <th>PromoInterval</th>\n",
       "      <th>Year</th>\n",
       "      <th>Month</th>\n",
       "      <th>Day</th>\n",
       "      <th>WeekOfYear</th>\n",
       "      <th>CompetitionOpen</th>\n",
       "    </tr>\n",
       "  </thead>\n",
       "  <tbody>\n",
       "    <tr>\n",
       "      <th>0</th>\n",
       "      <td>1</td>\n",
       "      <td>5</td>\n",
       "      <td>2015-07-31</td>\n",
       "      <td>5263</td>\n",
       "      <td>555</td>\n",
       "      <td>1</td>\n",
       "      <td>1</td>\n",
       "      <td>0</td>\n",
       "      <td>1</td>\n",
       "      <td>c</td>\n",
       "      <td>a</td>\n",
       "      <td>1270.0</td>\n",
       "      <td>9.0</td>\n",
       "      <td>2008.0</td>\n",
       "      <td>0</td>\n",
       "      <td>NaN</td>\n",
       "      <td>NaN</td>\n",
       "      <td>NaN</td>\n",
       "      <td>2015</td>\n",
       "      <td>7</td>\n",
       "      <td>31</td>\n",
       "      <td>31</td>\n",
       "      <td>82.0</td>\n",
       "    </tr>\n",
       "    <tr>\n",
       "      <th>1</th>\n",
       "      <td>2</td>\n",
       "      <td>5</td>\n",
       "      <td>2015-07-31</td>\n",
       "      <td>6064</td>\n",
       "      <td>625</td>\n",
       "      <td>1</td>\n",
       "      <td>1</td>\n",
       "      <td>0</td>\n",
       "      <td>1</td>\n",
       "      <td>a</td>\n",
       "      <td>a</td>\n",
       "      <td>570.0</td>\n",
       "      <td>11.0</td>\n",
       "      <td>2007.0</td>\n",
       "      <td>1</td>\n",
       "      <td>13.0</td>\n",
       "      <td>2010.0</td>\n",
       "      <td>Jan,Apr,Jul,Oct</td>\n",
       "      <td>2015</td>\n",
       "      <td>7</td>\n",
       "      <td>31</td>\n",
       "      <td>31</td>\n",
       "      <td>92.0</td>\n",
       "    </tr>\n",
       "    <tr>\n",
       "      <th>2</th>\n",
       "      <td>3</td>\n",
       "      <td>5</td>\n",
       "      <td>2015-07-31</td>\n",
       "      <td>8314</td>\n",
       "      <td>821</td>\n",
       "      <td>1</td>\n",
       "      <td>1</td>\n",
       "      <td>0</td>\n",
       "      <td>1</td>\n",
       "      <td>a</td>\n",
       "      <td>a</td>\n",
       "      <td>14130.0</td>\n",
       "      <td>12.0</td>\n",
       "      <td>2006.0</td>\n",
       "      <td>1</td>\n",
       "      <td>14.0</td>\n",
       "      <td>2011.0</td>\n",
       "      <td>Jan,Apr,Jul,Oct</td>\n",
       "      <td>2015</td>\n",
       "      <td>7</td>\n",
       "      <td>31</td>\n",
       "      <td>31</td>\n",
       "      <td>103.0</td>\n",
       "    </tr>\n",
       "    <tr>\n",
       "      <th>3</th>\n",
       "      <td>4</td>\n",
       "      <td>5</td>\n",
       "      <td>2015-07-31</td>\n",
       "      <td>13995</td>\n",
       "      <td>1498</td>\n",
       "      <td>1</td>\n",
       "      <td>1</td>\n",
       "      <td>0</td>\n",
       "      <td>1</td>\n",
       "      <td>c</td>\n",
       "      <td>c</td>\n",
       "      <td>620.0</td>\n",
       "      <td>9.0</td>\n",
       "      <td>2009.0</td>\n",
       "      <td>0</td>\n",
       "      <td>NaN</td>\n",
       "      <td>NaN</td>\n",
       "      <td>NaN</td>\n",
       "      <td>2015</td>\n",
       "      <td>7</td>\n",
       "      <td>31</td>\n",
       "      <td>31</td>\n",
       "      <td>70.0</td>\n",
       "    </tr>\n",
       "    <tr>\n",
       "      <th>4</th>\n",
       "      <td>5</td>\n",
       "      <td>5</td>\n",
       "      <td>2015-07-31</td>\n",
       "      <td>4822</td>\n",
       "      <td>559</td>\n",
       "      <td>1</td>\n",
       "      <td>1</td>\n",
       "      <td>0</td>\n",
       "      <td>1</td>\n",
       "      <td>a</td>\n",
       "      <td>a</td>\n",
       "      <td>29910.0</td>\n",
       "      <td>4.0</td>\n",
       "      <td>2015.0</td>\n",
       "      <td>0</td>\n",
       "      <td>NaN</td>\n",
       "      <td>NaN</td>\n",
       "      <td>NaN</td>\n",
       "      <td>2015</td>\n",
       "      <td>7</td>\n",
       "      <td>31</td>\n",
       "      <td>31</td>\n",
       "      <td>3.0</td>\n",
       "    </tr>\n",
       "    <tr>\n",
       "      <th>...</th>\n",
       "      <td>...</td>\n",
       "      <td>...</td>\n",
       "      <td>...</td>\n",
       "      <td>...</td>\n",
       "      <td>...</td>\n",
       "      <td>...</td>\n",
       "      <td>...</td>\n",
       "      <td>...</td>\n",
       "      <td>...</td>\n",
       "      <td>...</td>\n",
       "      <td>...</td>\n",
       "      <td>...</td>\n",
       "      <td>...</td>\n",
       "      <td>...</td>\n",
       "      <td>...</td>\n",
       "      <td>...</td>\n",
       "      <td>...</td>\n",
       "      <td>...</td>\n",
       "      <td>...</td>\n",
       "      <td>...</td>\n",
       "      <td>...</td>\n",
       "      <td>...</td>\n",
       "      <td>...</td>\n",
       "    </tr>\n",
       "    <tr>\n",
       "      <th>1016776</th>\n",
       "      <td>682</td>\n",
       "      <td>2</td>\n",
       "      <td>2013-01-01</td>\n",
       "      <td>3375</td>\n",
       "      <td>566</td>\n",
       "      <td>1</td>\n",
       "      <td>0</td>\n",
       "      <td>a</td>\n",
       "      <td>1</td>\n",
       "      <td>b</td>\n",
       "      <td>a</td>\n",
       "      <td>150.0</td>\n",
       "      <td>9.0</td>\n",
       "      <td>2006.0</td>\n",
       "      <td>0</td>\n",
       "      <td>NaN</td>\n",
       "      <td>NaN</td>\n",
       "      <td>NaN</td>\n",
       "      <td>2013</td>\n",
       "      <td>1</td>\n",
       "      <td>1</td>\n",
       "      <td>1</td>\n",
       "      <td>76.0</td>\n",
       "    </tr>\n",
       "    <tr>\n",
       "      <th>1016827</th>\n",
       "      <td>733</td>\n",
       "      <td>2</td>\n",
       "      <td>2013-01-01</td>\n",
       "      <td>10765</td>\n",
       "      <td>2377</td>\n",
       "      <td>1</td>\n",
       "      <td>0</td>\n",
       "      <td>a</td>\n",
       "      <td>1</td>\n",
       "      <td>b</td>\n",
       "      <td>b</td>\n",
       "      <td>860.0</td>\n",
       "      <td>10.0</td>\n",
       "      <td>1999.0</td>\n",
       "      <td>0</td>\n",
       "      <td>NaN</td>\n",
       "      <td>NaN</td>\n",
       "      <td>NaN</td>\n",
       "      <td>2013</td>\n",
       "      <td>1</td>\n",
       "      <td>1</td>\n",
       "      <td>1</td>\n",
       "      <td>159.0</td>\n",
       "    </tr>\n",
       "    <tr>\n",
       "      <th>1016863</th>\n",
       "      <td>769</td>\n",
       "      <td>2</td>\n",
       "      <td>2013-01-01</td>\n",
       "      <td>5035</td>\n",
       "      <td>1248</td>\n",
       "      <td>1</td>\n",
       "      <td>0</td>\n",
       "      <td>a</td>\n",
       "      <td>1</td>\n",
       "      <td>b</td>\n",
       "      <td>b</td>\n",
       "      <td>840.0</td>\n",
       "      <td>NaN</td>\n",
       "      <td>NaN</td>\n",
       "      <td>1</td>\n",
       "      <td>48.0</td>\n",
       "      <td>2012.0</td>\n",
       "      <td>Jan,Apr,Jul,Oct</td>\n",
       "      <td>2013</td>\n",
       "      <td>1</td>\n",
       "      <td>1</td>\n",
       "      <td>1</td>\n",
       "      <td>0.0</td>\n",
       "    </tr>\n",
       "    <tr>\n",
       "      <th>1017042</th>\n",
       "      <td>948</td>\n",
       "      <td>2</td>\n",
       "      <td>2013-01-01</td>\n",
       "      <td>4491</td>\n",
       "      <td>1039</td>\n",
       "      <td>1</td>\n",
       "      <td>0</td>\n",
       "      <td>a</td>\n",
       "      <td>1</td>\n",
       "      <td>b</td>\n",
       "      <td>b</td>\n",
       "      <td>1430.0</td>\n",
       "      <td>NaN</td>\n",
       "      <td>NaN</td>\n",
       "      <td>0</td>\n",
       "      <td>NaN</td>\n",
       "      <td>NaN</td>\n",
       "      <td>NaN</td>\n",
       "      <td>2013</td>\n",
       "      <td>1</td>\n",
       "      <td>1</td>\n",
       "      <td>1</td>\n",
       "      <td>0.0</td>\n",
       "    </tr>\n",
       "    <tr>\n",
       "      <th>1017190</th>\n",
       "      <td>1097</td>\n",
       "      <td>2</td>\n",
       "      <td>2013-01-01</td>\n",
       "      <td>5961</td>\n",
       "      <td>1405</td>\n",
       "      <td>1</td>\n",
       "      <td>0</td>\n",
       "      <td>a</td>\n",
       "      <td>1</td>\n",
       "      <td>b</td>\n",
       "      <td>b</td>\n",
       "      <td>720.0</td>\n",
       "      <td>3.0</td>\n",
       "      <td>2002.0</td>\n",
       "      <td>0</td>\n",
       "      <td>NaN</td>\n",
       "      <td>NaN</td>\n",
       "      <td>NaN</td>\n",
       "      <td>2013</td>\n",
       "      <td>1</td>\n",
       "      <td>1</td>\n",
       "      <td>1</td>\n",
       "      <td>130.0</td>\n",
       "    </tr>\n",
       "  </tbody>\n",
       "</table>\n",
       "<p>844392 rows × 23 columns</p>\n",
       "</div>"
      ],
      "text/plain": [
       "         Store  DayOfWeek       Date  Sales  Customers  Open  Promo  \\\n",
       "0            1          5 2015-07-31   5263        555     1      1   \n",
       "1            2          5 2015-07-31   6064        625     1      1   \n",
       "2            3          5 2015-07-31   8314        821     1      1   \n",
       "3            4          5 2015-07-31  13995       1498     1      1   \n",
       "4            5          5 2015-07-31   4822        559     1      1   \n",
       "...        ...        ...        ...    ...        ...   ...    ...   \n",
       "1016776    682          2 2013-01-01   3375        566     1      0   \n",
       "1016827    733          2 2013-01-01  10765       2377     1      0   \n",
       "1016863    769          2 2013-01-01   5035       1248     1      0   \n",
       "1017042    948          2 2013-01-01   4491       1039     1      0   \n",
       "1017190   1097          2 2013-01-01   5961       1405     1      0   \n",
       "\n",
       "        StateHoliday  SchoolHoliday StoreType Assortment  CompetitionDistance  \\\n",
       "0                  0              1         c          a               1270.0   \n",
       "1                  0              1         a          a                570.0   \n",
       "2                  0              1         a          a              14130.0   \n",
       "3                  0              1         c          c                620.0   \n",
       "4                  0              1         a          a              29910.0   \n",
       "...              ...            ...       ...        ...                  ...   \n",
       "1016776            a              1         b          a                150.0   \n",
       "1016827            a              1         b          b                860.0   \n",
       "1016863            a              1         b          b                840.0   \n",
       "1017042            a              1         b          b               1430.0   \n",
       "1017190            a              1         b          b                720.0   \n",
       "\n",
       "         CompetitionOpenSinceMonth  CompetitionOpenSinceYear  Promo2  \\\n",
       "0                              9.0                    2008.0       0   \n",
       "1                             11.0                    2007.0       1   \n",
       "2                             12.0                    2006.0       1   \n",
       "3                              9.0                    2009.0       0   \n",
       "4                              4.0                    2015.0       0   \n",
       "...                            ...                       ...     ...   \n",
       "1016776                        9.0                    2006.0       0   \n",
       "1016827                       10.0                    1999.0       0   \n",
       "1016863                        NaN                       NaN       1   \n",
       "1017042                        NaN                       NaN       0   \n",
       "1017190                        3.0                    2002.0       0   \n",
       "\n",
       "         Promo2SinceWeek  Promo2SinceYear    PromoInterval  Year  Month  Day  \\\n",
       "0                    NaN              NaN              NaN  2015      7   31   \n",
       "1                   13.0           2010.0  Jan,Apr,Jul,Oct  2015      7   31   \n",
       "2                   14.0           2011.0  Jan,Apr,Jul,Oct  2015      7   31   \n",
       "3                    NaN              NaN              NaN  2015      7   31   \n",
       "4                    NaN              NaN              NaN  2015      7   31   \n",
       "...                  ...              ...              ...   ...    ...  ...   \n",
       "1016776              NaN              NaN              NaN  2013      1    1   \n",
       "1016827              NaN              NaN              NaN  2013      1    1   \n",
       "1016863             48.0           2012.0  Jan,Apr,Jul,Oct  2013      1    1   \n",
       "1017042              NaN              NaN              NaN  2013      1    1   \n",
       "1017190              NaN              NaN              NaN  2013      1    1   \n",
       "\n",
       "         WeekOfYear  CompetitionOpen  \n",
       "0                31             82.0  \n",
       "1                31             92.0  \n",
       "2                31            103.0  \n",
       "3                31             70.0  \n",
       "4                31              3.0  \n",
       "...             ...              ...  \n",
       "1016776           1             76.0  \n",
       "1016827           1            159.0  \n",
       "1016863           1              0.0  \n",
       "1017042           1              0.0  \n",
       "1017190           1            130.0  \n",
       "\n",
       "[844392 rows x 23 columns]"
      ]
     },
     "execution_count": 26,
     "metadata": {},
     "output_type": "execute_result"
    }
   ],
   "source": [
    "merged_df"
   ]
  },
  {
   "cell_type": "markdown",
   "id": "supposed-nutrition",
   "metadata": {},
   "source": [
    "Let's view the results of the new columns we've created."
   ]
  },
  {
   "cell_type": "code",
   "execution_count": 27,
   "id": "single-wesley",
   "metadata": {},
   "outputs": [
    {
     "data": {
      "text/html": [
       "<div>\n",
       "<style scoped>\n",
       "    .dataframe tbody tr th:only-of-type {\n",
       "        vertical-align: middle;\n",
       "    }\n",
       "\n",
       "    .dataframe tbody tr th {\n",
       "        vertical-align: top;\n",
       "    }\n",
       "\n",
       "    .dataframe thead th {\n",
       "        text-align: right;\n",
       "    }\n",
       "</style>\n",
       "<table border=\"1\" class=\"dataframe\">\n",
       "  <thead>\n",
       "    <tr style=\"text-align: right;\">\n",
       "      <th></th>\n",
       "      <th>Date</th>\n",
       "      <th>CompetitionDistance</th>\n",
       "      <th>CompetitionOpenSinceYear</th>\n",
       "      <th>CompetitionOpenSinceMonth</th>\n",
       "      <th>CompetitionOpen</th>\n",
       "    </tr>\n",
       "  </thead>\n",
       "  <tbody>\n",
       "    <tr>\n",
       "      <th>598815</th>\n",
       "      <td>2014-01-11</td>\n",
       "      <td>8860.0</td>\n",
       "      <td>2004.0</td>\n",
       "      <td>4.0</td>\n",
       "      <td>117.0</td>\n",
       "    </tr>\n",
       "    <tr>\n",
       "      <th>997217</th>\n",
       "      <td>2013-01-18</td>\n",
       "      <td>3510.0</td>\n",
       "      <td>2006.0</td>\n",
       "      <td>11.0</td>\n",
       "      <td>74.0</td>\n",
       "    </tr>\n",
       "    <tr>\n",
       "      <th>527782</th>\n",
       "      <td>2014-03-15</td>\n",
       "      <td>7340.0</td>\n",
       "      <td>2008.0</td>\n",
       "      <td>5.0</td>\n",
       "      <td>70.0</td>\n",
       "    </tr>\n",
       "    <tr>\n",
       "      <th>389055</th>\n",
       "      <td>2014-07-21</td>\n",
       "      <td>3130.0</td>\n",
       "      <td>2002.0</td>\n",
       "      <td>7.0</td>\n",
       "      <td>144.0</td>\n",
       "    </tr>\n",
       "    <tr>\n",
       "      <th>731723</th>\n",
       "      <td>2013-09-14</td>\n",
       "      <td>18050.0</td>\n",
       "      <td>NaN</td>\n",
       "      <td>NaN</td>\n",
       "      <td>0.0</td>\n",
       "    </tr>\n",
       "    <tr>\n",
       "      <th>470992</th>\n",
       "      <td>2014-05-05</td>\n",
       "      <td>270.0</td>\n",
       "      <td>2013.0</td>\n",
       "      <td>8.0</td>\n",
       "      <td>9.0</td>\n",
       "    </tr>\n",
       "    <tr>\n",
       "      <th>652931</th>\n",
       "      <td>2013-11-23</td>\n",
       "      <td>1390.0</td>\n",
       "      <td>2004.0</td>\n",
       "      <td>12.0</td>\n",
       "      <td>107.0</td>\n",
       "    </tr>\n",
       "    <tr>\n",
       "      <th>723882</th>\n",
       "      <td>2013-09-21</td>\n",
       "      <td>7680.0</td>\n",
       "      <td>2006.0</td>\n",
       "      <td>3.0</td>\n",
       "      <td>90.0</td>\n",
       "    </tr>\n",
       "    <tr>\n",
       "      <th>328513</th>\n",
       "      <td>2014-09-24</td>\n",
       "      <td>17340.0</td>\n",
       "      <td>2010.0</td>\n",
       "      <td>6.0</td>\n",
       "      <td>51.0</td>\n",
       "    </tr>\n",
       "    <tr>\n",
       "      <th>631999</th>\n",
       "      <td>2013-12-12</td>\n",
       "      <td>170.0</td>\n",
       "      <td>2009.0</td>\n",
       "      <td>2.0</td>\n",
       "      <td>58.0</td>\n",
       "    </tr>\n",
       "    <tr>\n",
       "      <th>90656</th>\n",
       "      <td>2015-05-11</td>\n",
       "      <td>15770.0</td>\n",
       "      <td>NaN</td>\n",
       "      <td>NaN</td>\n",
       "      <td>0.0</td>\n",
       "    </tr>\n",
       "    <tr>\n",
       "      <th>231856</th>\n",
       "      <td>2015-01-05</td>\n",
       "      <td>5080.0</td>\n",
       "      <td>NaN</td>\n",
       "      <td>NaN</td>\n",
       "      <td>0.0</td>\n",
       "    </tr>\n",
       "    <tr>\n",
       "      <th>967759</th>\n",
       "      <td>2013-02-14</td>\n",
       "      <td>17540.0</td>\n",
       "      <td>2012.0</td>\n",
       "      <td>6.0</td>\n",
       "      <td>8.0</td>\n",
       "    </tr>\n",
       "    <tr>\n",
       "      <th>481315</th>\n",
       "      <td>2014-04-26</td>\n",
       "      <td>3530.0</td>\n",
       "      <td>2012.0</td>\n",
       "      <td>6.0</td>\n",
       "      <td>22.0</td>\n",
       "    </tr>\n",
       "    <tr>\n",
       "      <th>906510</th>\n",
       "      <td>2013-04-10</td>\n",
       "      <td>48330.0</td>\n",
       "      <td>2013.0</td>\n",
       "      <td>4.0</td>\n",
       "      <td>0.0</td>\n",
       "    </tr>\n",
       "    <tr>\n",
       "      <th>59064</th>\n",
       "      <td>2015-06-09</td>\n",
       "      <td>4030.0</td>\n",
       "      <td>2015.0</td>\n",
       "      <td>2.0</td>\n",
       "      <td>4.0</td>\n",
       "    </tr>\n",
       "    <tr>\n",
       "      <th>957371</th>\n",
       "      <td>2013-02-23</td>\n",
       "      <td>4880.0</td>\n",
       "      <td>2010.0</td>\n",
       "      <td>8.0</td>\n",
       "      <td>30.0</td>\n",
       "    </tr>\n",
       "    <tr>\n",
       "      <th>671088</th>\n",
       "      <td>2013-11-07</td>\n",
       "      <td>4030.0</td>\n",
       "      <td>2004.0</td>\n",
       "      <td>12.0</td>\n",
       "      <td>107.0</td>\n",
       "    </tr>\n",
       "    <tr>\n",
       "      <th>978636</th>\n",
       "      <td>2013-02-04</td>\n",
       "      <td>1850.0</td>\n",
       "      <td>2013.0</td>\n",
       "      <td>8.0</td>\n",
       "      <td>0.0</td>\n",
       "    </tr>\n",
       "    <tr>\n",
       "      <th>502472</th>\n",
       "      <td>2014-04-07</td>\n",
       "      <td>4820.0</td>\n",
       "      <td>2008.0</td>\n",
       "      <td>3.0</td>\n",
       "      <td>73.0</td>\n",
       "    </tr>\n",
       "  </tbody>\n",
       "</table>\n",
       "</div>"
      ],
      "text/plain": [
       "             Date  CompetitionDistance  CompetitionOpenSinceYear  \\\n",
       "598815 2014-01-11               8860.0                    2004.0   \n",
       "997217 2013-01-18               3510.0                    2006.0   \n",
       "527782 2014-03-15               7340.0                    2008.0   \n",
       "389055 2014-07-21               3130.0                    2002.0   \n",
       "731723 2013-09-14              18050.0                       NaN   \n",
       "470992 2014-05-05                270.0                    2013.0   \n",
       "652931 2013-11-23               1390.0                    2004.0   \n",
       "723882 2013-09-21               7680.0                    2006.0   \n",
       "328513 2014-09-24              17340.0                    2010.0   \n",
       "631999 2013-12-12                170.0                    2009.0   \n",
       "90656  2015-05-11              15770.0                       NaN   \n",
       "231856 2015-01-05               5080.0                       NaN   \n",
       "967759 2013-02-14              17540.0                    2012.0   \n",
       "481315 2014-04-26               3530.0                    2012.0   \n",
       "906510 2013-04-10              48330.0                    2013.0   \n",
       "59064  2015-06-09               4030.0                    2015.0   \n",
       "957371 2013-02-23               4880.0                    2010.0   \n",
       "671088 2013-11-07               4030.0                    2004.0   \n",
       "978636 2013-02-04               1850.0                    2013.0   \n",
       "502472 2014-04-07               4820.0                    2008.0   \n",
       "\n",
       "        CompetitionOpenSinceMonth  CompetitionOpen  \n",
       "598815                        4.0            117.0  \n",
       "997217                       11.0             74.0  \n",
       "527782                        5.0             70.0  \n",
       "389055                        7.0            144.0  \n",
       "731723                        NaN              0.0  \n",
       "470992                        8.0              9.0  \n",
       "652931                       12.0            107.0  \n",
       "723882                        3.0             90.0  \n",
       "328513                        6.0             51.0  \n",
       "631999                        2.0             58.0  \n",
       "90656                         NaN              0.0  \n",
       "231856                        NaN              0.0  \n",
       "967759                        6.0              8.0  \n",
       "481315                        6.0             22.0  \n",
       "906510                        4.0              0.0  \n",
       "59064                         2.0              4.0  \n",
       "957371                        8.0             30.0  \n",
       "671088                       12.0            107.0  \n",
       "978636                        8.0              0.0  \n",
       "502472                        3.0             73.0  "
      ]
     },
     "execution_count": 27,
     "metadata": {},
     "output_type": "execute_result"
    }
   ],
   "source": [
    "merged_df[['Date', 'CompetitionDistance', 'CompetitionOpenSinceYear', 'CompetitionOpenSinceMonth', 'CompetitionOpen']].sample(20)"
   ]
  },
  {
   "cell_type": "markdown",
   "id": "egyptian-fireplace",
   "metadata": {},
   "source": [
    "### Additional Promotion\n",
    "\n",
    "We can also add some additional columns to indicate how long a store has been running `Promo2` and whether a new round of `Promo2` starts in the current month."
   ]
  },
  {
   "cell_type": "code",
   "execution_count": 28,
   "id": "occasional-employee",
   "metadata": {},
   "outputs": [],
   "source": [
    "def check_promo_month(row):\n",
    "    month2str = {1:'Jan', 2:'Feb', 3:'Mar', 4:'Apr', 5:'May', 6:'Jun',              \n",
    "                 7:'Jul', 8:'Aug', 9:'Sept', 10:'Oct', 11:'Nov', 12:'Dec'}\n",
    "    try:\n",
    "        months = (row['PromoInterval'] or '').split(',')\n",
    "        if row['Promo2Open'] and month2str[row['Month']] in months:\n",
    "            return 1\n",
    "        else:\n",
    "            return 0\n",
    "    except Exception:\n",
    "        return 0\n",
    "\n",
    "def promo_cols(df):\n",
    "    # Months since Promo2 was open\n",
    "    df['Promo2Open'] = 12 * (df.Year - df.Promo2SinceYear) +  (df.WeekOfYear - df.Promo2SinceWeek)*7/30.5\n",
    "    df['Promo2Open'] = df['Promo2Open'].map(lambda x: 0 if x < 0 else x).fillna(0) * df['Promo2']\n",
    "    # Whether a new round of promotions was started in the current month\n",
    "    df['IsPromo2Month'] = df.apply(check_promo_month, axis=1) * df['Promo2']"
   ]
  },
  {
   "cell_type": "code",
   "execution_count": 29,
   "id": "orange-beijing",
   "metadata": {},
   "outputs": [],
   "source": [
    "promo_cols(merged_df)\n",
    "promo_cols(merged_test_df)"
   ]
  },
  {
   "cell_type": "markdown",
   "id": "forced-surfing",
   "metadata": {},
   "source": [
    "Let's view the results of the columns we've created."
   ]
  },
  {
   "cell_type": "code",
   "execution_count": 30,
   "id": "looking-october",
   "metadata": {},
   "outputs": [
    {
     "data": {
      "text/html": [
       "<div>\n",
       "<style scoped>\n",
       "    .dataframe tbody tr th:only-of-type {\n",
       "        vertical-align: middle;\n",
       "    }\n",
       "\n",
       "    .dataframe tbody tr th {\n",
       "        vertical-align: top;\n",
       "    }\n",
       "\n",
       "    .dataframe thead th {\n",
       "        text-align: right;\n",
       "    }\n",
       "</style>\n",
       "<table border=\"1\" class=\"dataframe\">\n",
       "  <thead>\n",
       "    <tr style=\"text-align: right;\">\n",
       "      <th></th>\n",
       "      <th>Date</th>\n",
       "      <th>Promo2</th>\n",
       "      <th>Promo2SinceYear</th>\n",
       "      <th>Promo2SinceWeek</th>\n",
       "      <th>PromoInterval</th>\n",
       "      <th>Promo2Open</th>\n",
       "      <th>IsPromo2Month</th>\n",
       "    </tr>\n",
       "  </thead>\n",
       "  <tbody>\n",
       "    <tr>\n",
       "      <th>296095</th>\n",
       "      <td>2014-10-29</td>\n",
       "      <td>1</td>\n",
       "      <td>2013.0</td>\n",
       "      <td>10.0</td>\n",
       "      <td>Jan,Apr,Jul,Oct</td>\n",
       "      <td>19.803279</td>\n",
       "      <td>1</td>\n",
       "    </tr>\n",
       "    <tr>\n",
       "      <th>814497</th>\n",
       "      <td>2013-07-01</td>\n",
       "      <td>1</td>\n",
       "      <td>2011.0</td>\n",
       "      <td>9.0</td>\n",
       "      <td>Mar,Jun,Sept,Dec</td>\n",
       "      <td>28.131148</td>\n",
       "      <td>0</td>\n",
       "    </tr>\n",
       "    <tr>\n",
       "      <th>79039</th>\n",
       "      <td>2015-05-22</td>\n",
       "      <td>0</td>\n",
       "      <td>NaN</td>\n",
       "      <td>NaN</td>\n",
       "      <td>NaN</td>\n",
       "      <td>0.000000</td>\n",
       "      <td>0</td>\n",
       "    </tr>\n",
       "    <tr>\n",
       "      <th>365305</th>\n",
       "      <td>2014-08-16</td>\n",
       "      <td>0</td>\n",
       "      <td>NaN</td>\n",
       "      <td>NaN</td>\n",
       "      <td>NaN</td>\n",
       "      <td>0.000000</td>\n",
       "      <td>0</td>\n",
       "    </tr>\n",
       "    <tr>\n",
       "      <th>312656</th>\n",
       "      <td>2014-10-11</td>\n",
       "      <td>0</td>\n",
       "      <td>NaN</td>\n",
       "      <td>NaN</td>\n",
       "      <td>NaN</td>\n",
       "      <td>0.000000</td>\n",
       "      <td>0</td>\n",
       "    </tr>\n",
       "    <tr>\n",
       "      <th>711011</th>\n",
       "      <td>2013-10-02</td>\n",
       "      <td>1</td>\n",
       "      <td>2010.0</td>\n",
       "      <td>13.0</td>\n",
       "      <td>Jan,Apr,Jul,Oct</td>\n",
       "      <td>42.196721</td>\n",
       "      <td>1</td>\n",
       "    </tr>\n",
       "    <tr>\n",
       "      <th>899716</th>\n",
       "      <td>2013-04-16</td>\n",
       "      <td>1</td>\n",
       "      <td>2011.0</td>\n",
       "      <td>40.0</td>\n",
       "      <td>Jan,Apr,Jul,Oct</td>\n",
       "      <td>18.491803</td>\n",
       "      <td>1</td>\n",
       "    </tr>\n",
       "    <tr>\n",
       "      <th>668544</th>\n",
       "      <td>2013-11-09</td>\n",
       "      <td>1</td>\n",
       "      <td>2012.0</td>\n",
       "      <td>22.0</td>\n",
       "      <td>Mar,Jun,Sept,Dec</td>\n",
       "      <td>17.278689</td>\n",
       "      <td>0</td>\n",
       "    </tr>\n",
       "    <tr>\n",
       "      <th>465869</th>\n",
       "      <td>2014-05-10</td>\n",
       "      <td>0</td>\n",
       "      <td>NaN</td>\n",
       "      <td>NaN</td>\n",
       "      <td>NaN</td>\n",
       "      <td>0.000000</td>\n",
       "      <td>0</td>\n",
       "    </tr>\n",
       "    <tr>\n",
       "      <th>244130</th>\n",
       "      <td>2014-12-23</td>\n",
       "      <td>0</td>\n",
       "      <td>NaN</td>\n",
       "      <td>NaN</td>\n",
       "      <td>NaN</td>\n",
       "      <td>0.000000</td>\n",
       "      <td>0</td>\n",
       "    </tr>\n",
       "    <tr>\n",
       "      <th>657327</th>\n",
       "      <td>2013-11-19</td>\n",
       "      <td>1</td>\n",
       "      <td>2014.0</td>\n",
       "      <td>40.0</td>\n",
       "      <td>Jan,Apr,Jul,Oct</td>\n",
       "      <td>0.000000</td>\n",
       "      <td>0</td>\n",
       "    </tr>\n",
       "    <tr>\n",
       "      <th>835571</th>\n",
       "      <td>2013-06-12</td>\n",
       "      <td>0</td>\n",
       "      <td>NaN</td>\n",
       "      <td>NaN</td>\n",
       "      <td>NaN</td>\n",
       "      <td>0.000000</td>\n",
       "      <td>0</td>\n",
       "    </tr>\n",
       "    <tr>\n",
       "      <th>457607</th>\n",
       "      <td>2014-05-17</td>\n",
       "      <td>1</td>\n",
       "      <td>2013.0</td>\n",
       "      <td>1.0</td>\n",
       "      <td>Jan,Apr,Jul,Oct</td>\n",
       "      <td>16.360656</td>\n",
       "      <td>0</td>\n",
       "    </tr>\n",
       "    <tr>\n",
       "      <th>994646</th>\n",
       "      <td>2013-01-21</td>\n",
       "      <td>1</td>\n",
       "      <td>2011.0</td>\n",
       "      <td>14.0</td>\n",
       "      <td>Jan,Apr,Jul,Oct</td>\n",
       "      <td>21.704918</td>\n",
       "      <td>1</td>\n",
       "    </tr>\n",
       "    <tr>\n",
       "      <th>120483</th>\n",
       "      <td>2015-04-14</td>\n",
       "      <td>1</td>\n",
       "      <td>2013.0</td>\n",
       "      <td>14.0</td>\n",
       "      <td>Jan,Apr,Jul,Oct</td>\n",
       "      <td>24.459016</td>\n",
       "      <td>1</td>\n",
       "    </tr>\n",
       "    <tr>\n",
       "      <th>899043</th>\n",
       "      <td>2013-04-16</td>\n",
       "      <td>1</td>\n",
       "      <td>2011.0</td>\n",
       "      <td>40.0</td>\n",
       "      <td>Jan,Apr,Jul,Oct</td>\n",
       "      <td>18.491803</td>\n",
       "      <td>1</td>\n",
       "    </tr>\n",
       "    <tr>\n",
       "      <th>346180</th>\n",
       "      <td>2014-09-05</td>\n",
       "      <td>1</td>\n",
       "      <td>2012.0</td>\n",
       "      <td>44.0</td>\n",
       "      <td>Feb,May,Aug,Nov</td>\n",
       "      <td>22.163934</td>\n",
       "      <td>0</td>\n",
       "    </tr>\n",
       "    <tr>\n",
       "      <th>864164</th>\n",
       "      <td>2013-05-18</td>\n",
       "      <td>1</td>\n",
       "      <td>2014.0</td>\n",
       "      <td>40.0</td>\n",
       "      <td>Jan,Apr,Jul,Oct</td>\n",
       "      <td>0.000000</td>\n",
       "      <td>0</td>\n",
       "    </tr>\n",
       "    <tr>\n",
       "      <th>950277</th>\n",
       "      <td>2013-03-02</td>\n",
       "      <td>1</td>\n",
       "      <td>2013.0</td>\n",
       "      <td>5.0</td>\n",
       "      <td>Feb,May,Aug,Nov</td>\n",
       "      <td>0.918033</td>\n",
       "      <td>0</td>\n",
       "    </tr>\n",
       "    <tr>\n",
       "      <th>286265</th>\n",
       "      <td>2014-11-08</td>\n",
       "      <td>0</td>\n",
       "      <td>NaN</td>\n",
       "      <td>NaN</td>\n",
       "      <td>NaN</td>\n",
       "      <td>0.000000</td>\n",
       "      <td>0</td>\n",
       "    </tr>\n",
       "  </tbody>\n",
       "</table>\n",
       "</div>"
      ],
      "text/plain": [
       "             Date  Promo2  Promo2SinceYear  Promo2SinceWeek     PromoInterval  \\\n",
       "296095 2014-10-29       1           2013.0             10.0   Jan,Apr,Jul,Oct   \n",
       "814497 2013-07-01       1           2011.0              9.0  Mar,Jun,Sept,Dec   \n",
       "79039  2015-05-22       0              NaN              NaN               NaN   \n",
       "365305 2014-08-16       0              NaN              NaN               NaN   \n",
       "312656 2014-10-11       0              NaN              NaN               NaN   \n",
       "711011 2013-10-02       1           2010.0             13.0   Jan,Apr,Jul,Oct   \n",
       "899716 2013-04-16       1           2011.0             40.0   Jan,Apr,Jul,Oct   \n",
       "668544 2013-11-09       1           2012.0             22.0  Mar,Jun,Sept,Dec   \n",
       "465869 2014-05-10       0              NaN              NaN               NaN   \n",
       "244130 2014-12-23       0              NaN              NaN               NaN   \n",
       "657327 2013-11-19       1           2014.0             40.0   Jan,Apr,Jul,Oct   \n",
       "835571 2013-06-12       0              NaN              NaN               NaN   \n",
       "457607 2014-05-17       1           2013.0              1.0   Jan,Apr,Jul,Oct   \n",
       "994646 2013-01-21       1           2011.0             14.0   Jan,Apr,Jul,Oct   \n",
       "120483 2015-04-14       1           2013.0             14.0   Jan,Apr,Jul,Oct   \n",
       "899043 2013-04-16       1           2011.0             40.0   Jan,Apr,Jul,Oct   \n",
       "346180 2014-09-05       1           2012.0             44.0   Feb,May,Aug,Nov   \n",
       "864164 2013-05-18       1           2014.0             40.0   Jan,Apr,Jul,Oct   \n",
       "950277 2013-03-02       1           2013.0              5.0   Feb,May,Aug,Nov   \n",
       "286265 2014-11-08       0              NaN              NaN               NaN   \n",
       "\n",
       "        Promo2Open  IsPromo2Month  \n",
       "296095   19.803279              1  \n",
       "814497   28.131148              0  \n",
       "79039     0.000000              0  \n",
       "365305    0.000000              0  \n",
       "312656    0.000000              0  \n",
       "711011   42.196721              1  \n",
       "899716   18.491803              1  \n",
       "668544   17.278689              0  \n",
       "465869    0.000000              0  \n",
       "244130    0.000000              0  \n",
       "657327    0.000000              0  \n",
       "835571    0.000000              0  \n",
       "457607   16.360656              0  \n",
       "994646   21.704918              1  \n",
       "120483   24.459016              1  \n",
       "899043   18.491803              1  \n",
       "346180   22.163934              0  \n",
       "864164    0.000000              0  \n",
       "950277    0.918033              0  \n",
       "286265    0.000000              0  "
      ]
     },
     "execution_count": 30,
     "metadata": {},
     "output_type": "execute_result"
    }
   ],
   "source": [
    "merged_df[['Date', 'Promo2', 'Promo2SinceYear', 'Promo2SinceWeek', 'PromoInterval', 'Promo2Open', 'IsPromo2Month']].sample(20)"
   ]
  },
  {
   "cell_type": "markdown",
   "id": "serial-politics",
   "metadata": {},
   "source": [
    "The features related to competition and promotion are now much more useful."
   ]
  },
  {
   "cell_type": "markdown",
   "id": "furnished-property",
   "metadata": {},
   "source": [
    "### Input and Target Columns\n",
    "\n",
    "Let's select the columns that we'll use for training."
   ]
  },
  {
   "cell_type": "code",
   "execution_count": 31,
   "id": "continent-mountain",
   "metadata": {},
   "outputs": [
    {
     "data": {
      "text/plain": [
       "Index(['Store', 'DayOfWeek', 'Date', 'Sales', 'Customers', 'Open', 'Promo',\n",
       "       'StateHoliday', 'SchoolHoliday', 'StoreType', 'Assortment',\n",
       "       'CompetitionDistance', 'CompetitionOpenSinceMonth',\n",
       "       'CompetitionOpenSinceYear', 'Promo2', 'Promo2SinceWeek',\n",
       "       'Promo2SinceYear', 'PromoInterval', 'Year', 'Month', 'Day',\n",
       "       'WeekOfYear', 'CompetitionOpen', 'Promo2Open', 'IsPromo2Month'],\n",
       "      dtype='object')"
      ]
     },
     "execution_count": 31,
     "metadata": {},
     "output_type": "execute_result"
    }
   ],
   "source": [
    "merged_df.columns"
   ]
  },
  {
   "cell_type": "code",
   "execution_count": 32,
   "id": "miniature-ottawa",
   "metadata": {},
   "outputs": [],
   "source": [
    "input_cols = ['Store', 'DayOfWeek', 'Promo', 'StateHoliday', 'SchoolHoliday', \n",
    "              'StoreType', 'Assortment', 'CompetitionDistance', 'CompetitionOpen', \n",
    "              'Day', 'Month', 'Year', 'WeekOfYear',  'Promo2', \n",
    "              'Promo2Open', 'IsPromo2Month']\n",
    "target_col = 'Sales'"
   ]
  },
  {
   "cell_type": "code",
   "execution_count": 33,
   "id": "available-observation",
   "metadata": {},
   "outputs": [],
   "source": [
    "inputs = merged_df[input_cols].copy()\n",
    "targets = merged_df[target_col].copy()"
   ]
  },
  {
   "cell_type": "code",
   "execution_count": 34,
   "id": "unlike-consciousness",
   "metadata": {},
   "outputs": [],
   "source": [
    "test_inputs = merged_test_df[input_cols].copy()"
   ]
  },
  {
   "cell_type": "markdown",
   "id": "middle-spank",
   "metadata": {},
   "source": [
    "Let's also identify numeric and categorical columns. Note that we can treat binary categorical columns (0/1) as numeric columns."
   ]
  },
  {
   "cell_type": "code",
   "execution_count": 35,
   "id": "equipped-wrapping",
   "metadata": {},
   "outputs": [],
   "source": [
    "numeric_cols = ['Store', 'Promo', 'SchoolHoliday', \n",
    "              'CompetitionDistance', 'CompetitionOpen', 'Promo2', 'Promo2Open', 'IsPromo2Month',\n",
    "              'Day', 'Month', 'Year', 'WeekOfYear',  ]\n",
    "categorical_cols = ['DayOfWeek', 'StateHoliday', 'StoreType', 'Assortment']"
   ]
  },
  {
   "cell_type": "markdown",
   "id": "expired-wrapping",
   "metadata": {},
   "source": [
    "### Impute missing numerical data"
   ]
  },
  {
   "cell_type": "code",
   "execution_count": 36,
   "id": "stupid-disorder",
   "metadata": {},
   "outputs": [
    {
     "data": {
      "text/plain": [
       "Store                     0\n",
       "Promo                     0\n",
       "SchoolHoliday             0\n",
       "CompetitionDistance    2186\n",
       "CompetitionOpen           0\n",
       "Promo2                    0\n",
       "Promo2Open                0\n",
       "IsPromo2Month             0\n",
       "Day                       0\n",
       "Month                     0\n",
       "Year                      0\n",
       "WeekOfYear                0\n",
       "dtype: int64"
      ]
     },
     "execution_count": 36,
     "metadata": {},
     "output_type": "execute_result"
    }
   ],
   "source": [
    "inputs[numeric_cols].isna().sum()"
   ]
  },
  {
   "cell_type": "code",
   "execution_count": 37,
   "id": "stainless-adobe",
   "metadata": {},
   "outputs": [
    {
     "data": {
      "text/plain": [
       "Store                   0\n",
       "Promo                   0\n",
       "SchoolHoliday           0\n",
       "CompetitionDistance    96\n",
       "CompetitionOpen         0\n",
       "Promo2                  0\n",
       "Promo2Open              0\n",
       "IsPromo2Month           0\n",
       "Day                     0\n",
       "Month                   0\n",
       "Year                    0\n",
       "WeekOfYear              0\n",
       "dtype: int64"
      ]
     },
     "execution_count": 37,
     "metadata": {},
     "output_type": "execute_result"
    }
   ],
   "source": [
    "test_inputs[numeric_cols].isna().sum()"
   ]
  },
  {
   "cell_type": "markdown",
   "id": "abroad-commitment",
   "metadata": {},
   "source": [
    "Seems like competition distance is the only missing value, and we can simply fill it with the highest value (to indicate that competition is very far away)."
   ]
  },
  {
   "cell_type": "code",
   "execution_count": 38,
   "id": "suspended-illinois",
   "metadata": {},
   "outputs": [],
   "source": [
    "max_distance = inputs.CompetitionDistance.max()"
   ]
  },
  {
   "cell_type": "code",
   "execution_count": 39,
   "id": "ranging-domestic",
   "metadata": {},
   "outputs": [],
   "source": [
    "inputs['CompetitionDistance'].fillna(max_distance, inplace=True)\n",
    "test_inputs['CompetitionDistance'].fillna(max_distance, inplace=True)"
   ]
  },
  {
   "cell_type": "markdown",
   "id": "widespread-percentage",
   "metadata": {},
   "source": [
    "### Scale Numeric Values\n",
    "\n",
    "Let's scale numeric values to the 0 to 1 range."
   ]
  },
  {
   "cell_type": "code",
   "execution_count": 40,
   "id": "verified-weight",
   "metadata": {},
   "outputs": [],
   "source": [
    "from sklearn.preprocessing import MinMaxScaler"
   ]
  },
  {
   "cell_type": "code",
   "execution_count": 41,
   "id": "small-sunset",
   "metadata": {},
   "outputs": [],
   "source": [
    "scaler = MinMaxScaler().fit(inputs[numeric_cols])"
   ]
  },
  {
   "cell_type": "code",
   "execution_count": 42,
   "id": "neither-madagascar",
   "metadata": {},
   "outputs": [],
   "source": [
    "inputs[numeric_cols] = scaler.transform(inputs[numeric_cols])\n",
    "test_inputs[numeric_cols] = scaler.transform(test_inputs[numeric_cols])"
   ]
  },
  {
   "cell_type": "markdown",
   "id": "cutting-thompson",
   "metadata": {},
   "source": [
    "### Encode Categorical Columns\n",
    "\n",
    "<img src=\"https://i.imgur.com/n8GuiOO.png\" width=\"640\">\n",
    "\n",
    "Let's one-hot encode categorical columns."
   ]
  },
  {
   "cell_type": "code",
   "execution_count": 43,
   "id": "corrected-jacket",
   "metadata": {},
   "outputs": [],
   "source": [
    "from sklearn.preprocessing import OneHotEncoder"
   ]
  },
  {
   "cell_type": "code",
   "execution_count": 44,
   "id": "manual-hands",
   "metadata": {},
   "outputs": [
    {
     "name": "stderr",
     "output_type": "stream",
     "text": [
      "/opt/homebrew/lib/python3.10/site-packages/sklearn/utils/deprecation.py:87: FutureWarning: Function get_feature_names is deprecated; get_feature_names is deprecated in 1.0 and will be removed in 1.2. Please use get_feature_names_out instead.\n",
      "  warnings.warn(msg, category=FutureWarning)\n"
     ]
    }
   ],
   "source": [
    "encoder = OneHotEncoder(sparse=False, handle_unknown='ignore').fit(inputs[categorical_cols])\n",
    "encoded_cols = list(encoder.get_feature_names(categorical_cols))"
   ]
  },
  {
   "cell_type": "code",
   "execution_count": 45,
   "id": "transparent-participation",
   "metadata": {},
   "outputs": [],
   "source": [
    "inputs[encoded_cols] = encoder.transform(inputs[categorical_cols])\n",
    "test_inputs[encoded_cols] = encoder.transform(test_inputs[categorical_cols])"
   ]
  },
  {
   "cell_type": "markdown",
   "id": "maritime-mailman",
   "metadata": {},
   "source": [
    "Finally, let's extract out all the numeric data for training."
   ]
  },
  {
   "cell_type": "code",
   "execution_count": 46,
   "id": "floating-plant",
   "metadata": {},
   "outputs": [],
   "source": [
    "X = inputs[numeric_cols + encoded_cols]\n",
    "X_test = test_inputs[numeric_cols + encoded_cols]"
   ]
  },
  {
   "cell_type": "markdown",
   "id": "covered-conversation",
   "metadata": {},
   "source": [
    "We haven't created a validation set yet, because we'll use K-fold cross validation."
   ]
  },
  {
   "cell_type": "code",
   "execution_count": null,
   "id": "novel-image",
   "metadata": {},
   "outputs": [],
   "source": []
  },
  {
   "cell_type": "code",
   "execution_count": null,
   "id": "closed-fellow",
   "metadata": {},
   "outputs": [],
   "source": []
  },
  {
   "cell_type": "markdown",
   "id": "chicken-energy",
   "metadata": {},
   "source": [
    "Let's save our work before continuing."
   ]
  },
  {
   "cell_type": "markdown",
   "id": "minor-casting",
   "metadata": {},
   "source": [
    "## Gradient Boosting\n",
    "\n",
    "We're now ready to train our gradient boosting machine (GBM) model. Here's how a GBM model works:\n",
    "\n",
    "1. The average value of the target column and uses as an initial prediction every input.\n",
    "2. The residuals (difference) of the predictions with the targets are computed.\n",
    "3. A decision tree of limited depth is trained to **predict just the residuals** for each input.\n",
    "4. Predictions from the decision tree are scaled using a parameter called the learning rate (this prevents overfitting)\n",
    "5. Scaled predictions fro the tree are added to the previous predictions to obtain the new and improved predictions.\n",
    "6. Steps 2 to 5 are repeated to create new decision trees, each of which is trained to predict just the residuals from the previous prediction.\n",
    "\n",
    "The term \"gradient\" refers to the fact that each decision tree is trained with the purpose of reducing the loss from the previous iteration (similar to gradient descent). The term \"boosting\" refers the general technique of training new models to improve the results of an existing model. \n",
    "\n",
    "> **EXERCISE**: Can you describe in your own words how a gradient boosting machine is different from a random forest?\n",
    "\n",
    "\n",
    "For a mathematical explanation of gradient boosting, check out the following resources:\n",
    "\n",
    "- [XGBoost Documentation](https://xgboost.readthedocs.io/en/latest/tutorials/model.html)\n",
    "- [Video Tutorials on StatQuest](https://www.youtube.com/watch?v=3CC4N4z3GJc&list=PLblh5JKOoLUJjeXUvUE0maghNuY2_5fY6)\n",
    "\n",
    "Here's a visual representation of gradient boosting:\n",
    "\n",
    "![](https://miro.medium.com/max/560/1*85QHtH-49U7ozPpmA5cAaw.png)\n",
    "\n"
   ]
  },
  {
   "cell_type": "markdown",
   "id": "heard-mentor",
   "metadata": {},
   "source": [
    "### Training\n",
    "\n",
    "To train a GBM, we can use the `XGBRegressor` class from the [`XGBoost`](https://xgboost.readthedocs.io/en/latest/) library."
   ]
  },
  {
   "cell_type": "code",
   "execution_count": 48,
   "id": "complicated-southeast",
   "metadata": {},
   "outputs": [],
   "source": [
    "from xgboost import XGBRegressor"
   ]
  },
  {
   "cell_type": "code",
   "execution_count": 49,
   "id": "serious-values",
   "metadata": {},
   "outputs": [],
   "source": [
    "# ?XGBRegressor"
   ]
  },
  {
   "cell_type": "code",
   "execution_count": 50,
   "id": "legendary-diving",
   "metadata": {},
   "outputs": [],
   "source": [
    "model = XGBRegressor(random_state=42, n_jobs=-1, n_estimators=20, max_depth=4)"
   ]
  },
  {
   "cell_type": "markdown",
   "id": "helpful-toyota",
   "metadata": {},
   "source": [
    "Let's train the model using `model.fit`."
   ]
  },
  {
   "cell_type": "code",
   "execution_count": 51,
   "id": "associate-customer",
   "metadata": {},
   "outputs": [
    {
     "name": "stdout",
     "output_type": "stream",
     "text": [
      "CPU times: user 41.5 s, sys: 3.76 s, total: 45.2 s\n",
      "Wall time: 5.85 s\n"
     ]
    },
    {
     "data": {
      "text/html": [
       "<style>#sk-container-id-1 {color: black;background-color: white;}#sk-container-id-1 pre{padding: 0;}#sk-container-id-1 div.sk-toggleable {background-color: white;}#sk-container-id-1 label.sk-toggleable__label {cursor: pointer;display: block;width: 100%;margin-bottom: 0;padding: 0.3em;box-sizing: border-box;text-align: center;}#sk-container-id-1 label.sk-toggleable__label-arrow:before {content: \"▸\";float: left;margin-right: 0.25em;color: #696969;}#sk-container-id-1 label.sk-toggleable__label-arrow:hover:before {color: black;}#sk-container-id-1 div.sk-estimator:hover label.sk-toggleable__label-arrow:before {color: black;}#sk-container-id-1 div.sk-toggleable__content {max-height: 0;max-width: 0;overflow: hidden;text-align: left;background-color: #f0f8ff;}#sk-container-id-1 div.sk-toggleable__content pre {margin: 0.2em;color: black;border-radius: 0.25em;background-color: #f0f8ff;}#sk-container-id-1 input.sk-toggleable__control:checked~div.sk-toggleable__content {max-height: 200px;max-width: 100%;overflow: auto;}#sk-container-id-1 input.sk-toggleable__control:checked~label.sk-toggleable__label-arrow:before {content: \"▾\";}#sk-container-id-1 div.sk-estimator input.sk-toggleable__control:checked~label.sk-toggleable__label {background-color: #d4ebff;}#sk-container-id-1 div.sk-label input.sk-toggleable__control:checked~label.sk-toggleable__label {background-color: #d4ebff;}#sk-container-id-1 input.sk-hidden--visually {border: 0;clip: rect(1px 1px 1px 1px);clip: rect(1px, 1px, 1px, 1px);height: 1px;margin: -1px;overflow: hidden;padding: 0;position: absolute;width: 1px;}#sk-container-id-1 div.sk-estimator {font-family: monospace;background-color: #f0f8ff;border: 1px dotted black;border-radius: 0.25em;box-sizing: border-box;margin-bottom: 0.5em;}#sk-container-id-1 div.sk-estimator:hover {background-color: #d4ebff;}#sk-container-id-1 div.sk-parallel-item::after {content: \"\";width: 100%;border-bottom: 1px solid gray;flex-grow: 1;}#sk-container-id-1 div.sk-label:hover label.sk-toggleable__label {background-color: #d4ebff;}#sk-container-id-1 div.sk-serial::before {content: \"\";position: absolute;border-left: 1px solid gray;box-sizing: border-box;top: 0;bottom: 0;left: 50%;z-index: 0;}#sk-container-id-1 div.sk-serial {display: flex;flex-direction: column;align-items: center;background-color: white;padding-right: 0.2em;padding-left: 0.2em;position: relative;}#sk-container-id-1 div.sk-item {position: relative;z-index: 1;}#sk-container-id-1 div.sk-parallel {display: flex;align-items: stretch;justify-content: center;background-color: white;position: relative;}#sk-container-id-1 div.sk-item::before, #sk-container-id-1 div.sk-parallel-item::before {content: \"\";position: absolute;border-left: 1px solid gray;box-sizing: border-box;top: 0;bottom: 0;left: 50%;z-index: -1;}#sk-container-id-1 div.sk-parallel-item {display: flex;flex-direction: column;z-index: 1;position: relative;background-color: white;}#sk-container-id-1 div.sk-parallel-item:first-child::after {align-self: flex-end;width: 50%;}#sk-container-id-1 div.sk-parallel-item:last-child::after {align-self: flex-start;width: 50%;}#sk-container-id-1 div.sk-parallel-item:only-child::after {width: 0;}#sk-container-id-1 div.sk-dashed-wrapped {border: 1px dashed gray;margin: 0 0.4em 0.5em 0.4em;box-sizing: border-box;padding-bottom: 0.4em;background-color: white;}#sk-container-id-1 div.sk-label label {font-family: monospace;font-weight: bold;display: inline-block;line-height: 1.2em;}#sk-container-id-1 div.sk-label-container {text-align: center;}#sk-container-id-1 div.sk-container {/* jupyter's `normalize.less` sets `[hidden] { display: none; }` but bootstrap.min.css set `[hidden] { display: none !important; }` so we also need the `!important` here to be able to override the default hidden behavior on the sphinx rendered scikit-learn.org. See: https://github.com/scikit-learn/scikit-learn/issues/21755 */display: inline-block !important;position: relative;}#sk-container-id-1 div.sk-text-repr-fallback {display: none;}</style><div id=\"sk-container-id-1\" class=\"sk-top-container\"><div class=\"sk-text-repr-fallback\"><pre>XGBRegressor(base_score=0.5, booster=&#x27;gbtree&#x27;, callbacks=None,\n",
       "             colsample_bylevel=1, colsample_bynode=1, colsample_bytree=1,\n",
       "             early_stopping_rounds=None, enable_categorical=False,\n",
       "             eval_metric=None, feature_types=None, gamma=0, gpu_id=-1,\n",
       "             grow_policy=&#x27;depthwise&#x27;, importance_type=None,\n",
       "             interaction_constraints=&#x27;&#x27;, learning_rate=0.300000012, max_bin=256,\n",
       "             max_cat_threshold=64, max_cat_to_onehot=4, max_delta_step=0,\n",
       "             max_depth=4, max_leaves=0, min_child_weight=1, missing=nan,\n",
       "             monotone_constraints=&#x27;()&#x27;, n_estimators=20, n_jobs=-1,\n",
       "             num_parallel_tree=1, predictor=&#x27;auto&#x27;, random_state=42, ...)</pre><b>In a Jupyter environment, please rerun this cell to show the HTML representation or trust the notebook. <br />On GitHub, the HTML representation is unable to render, please try loading this page with nbviewer.org.</b></div><div class=\"sk-container\" hidden><div class=\"sk-item\"><div class=\"sk-estimator sk-toggleable\"><input class=\"sk-toggleable__control sk-hidden--visually\" id=\"sk-estimator-id-1\" type=\"checkbox\" checked><label for=\"sk-estimator-id-1\" class=\"sk-toggleable__label sk-toggleable__label-arrow\">XGBRegressor</label><div class=\"sk-toggleable__content\"><pre>XGBRegressor(base_score=0.5, booster=&#x27;gbtree&#x27;, callbacks=None,\n",
       "             colsample_bylevel=1, colsample_bynode=1, colsample_bytree=1,\n",
       "             early_stopping_rounds=None, enable_categorical=False,\n",
       "             eval_metric=None, feature_types=None, gamma=0, gpu_id=-1,\n",
       "             grow_policy=&#x27;depthwise&#x27;, importance_type=None,\n",
       "             interaction_constraints=&#x27;&#x27;, learning_rate=0.300000012, max_bin=256,\n",
       "             max_cat_threshold=64, max_cat_to_onehot=4, max_delta_step=0,\n",
       "             max_depth=4, max_leaves=0, min_child_weight=1, missing=nan,\n",
       "             monotone_constraints=&#x27;()&#x27;, n_estimators=20, n_jobs=-1,\n",
       "             num_parallel_tree=1, predictor=&#x27;auto&#x27;, random_state=42, ...)</pre></div></div></div></div></div>"
      ],
      "text/plain": [
       "XGBRegressor(base_score=0.5, booster='gbtree', callbacks=None,\n",
       "             colsample_bylevel=1, colsample_bynode=1, colsample_bytree=1,\n",
       "             early_stopping_rounds=None, enable_categorical=False,\n",
       "             eval_metric=None, feature_types=None, gamma=0, gpu_id=-1,\n",
       "             grow_policy='depthwise', importance_type=None,\n",
       "             interaction_constraints='', learning_rate=0.300000012, max_bin=256,\n",
       "             max_cat_threshold=64, max_cat_to_onehot=4, max_delta_step=0,\n",
       "             max_depth=4, max_leaves=0, min_child_weight=1, missing=nan,\n",
       "             monotone_constraints='()', n_estimators=20, n_jobs=-1,\n",
       "             num_parallel_tree=1, predictor='auto', random_state=42, ...)"
      ]
     },
     "execution_count": 51,
     "metadata": {},
     "output_type": "execute_result"
    }
   ],
   "source": [
    "%%time\n",
    "model.fit(X, targets)"
   ]
  },
  {
   "cell_type": "markdown",
   "id": "solved-billion",
   "metadata": {},
   "source": [
    "> **EXERCISE**: Explain how the `.fit` method of `XGBRegressor` applies the iterative machine learning workflow to train the model using the training data.\n",
    "> \n",
    "> <img src=\"https://www.deepnetts.com/blog/wp-content/uploads/2019/02/SupervisedLearning.png\" width=\"480\">"
   ]
  },
  {
   "cell_type": "markdown",
   "id": "fitting-mount",
   "metadata": {},
   "source": [
    "### Prediction\n",
    "\n",
    "We can now make predictions and evaluate the model using `model.predict`."
   ]
  },
  {
   "cell_type": "code",
   "execution_count": 52,
   "id": "informational-sheffield",
   "metadata": {},
   "outputs": [],
   "source": [
    "preds = model.predict(X)"
   ]
  },
  {
   "cell_type": "code",
   "execution_count": 53,
   "id": "minute-perry",
   "metadata": {},
   "outputs": [
    {
     "data": {
      "text/plain": [
       "array([ 8127.9404,  7606.919 ,  8525.857 , ...,  6412.8247,  9460.068 ,\n",
       "       10302.145 ], dtype=float32)"
      ]
     },
     "execution_count": 53,
     "metadata": {},
     "output_type": "execute_result"
    }
   ],
   "source": [
    "preds"
   ]
  },
  {
   "cell_type": "markdown",
   "id": "stupid-pixel",
   "metadata": {},
   "source": [
    "### Evaluation\n",
    "\n",
    "Let's evaluate the predictions using RMSE error."
   ]
  },
  {
   "cell_type": "code",
   "execution_count": 54,
   "id": "together-christmas",
   "metadata": {},
   "outputs": [],
   "source": [
    "from sklearn.metrics import mean_squared_error\n",
    "\n",
    "def rmse(a, b):\n",
    "    return mean_squared_error(a, b, squared=False)"
   ]
  },
  {
   "cell_type": "code",
   "execution_count": 55,
   "id": "prescription-premiere",
   "metadata": {},
   "outputs": [
    {
     "data": {
      "text/plain": [
       "2377.752008804669"
      ]
     },
     "execution_count": 55,
     "metadata": {},
     "output_type": "execute_result"
    }
   ],
   "source": [
    "rmse(preds, targets)"
   ]
  },
  {
   "cell_type": "code",
   "execution_count": null,
   "id": "accompanied-swimming",
   "metadata": {},
   "outputs": [],
   "source": []
  },
  {
   "cell_type": "markdown",
   "id": "split-forty",
   "metadata": {},
   "source": [
    "### Visualization\n",
    "\n",
    "We can visualize individual trees using `plot_tree` (note: this requires the `graphviz` library to be installed)."
   ]
  },
  {
   "cell_type": "code",
   "execution_count": 59,
   "id": "threatened-panel",
   "metadata": {},
   "outputs": [],
   "source": [
    "import matplotlib.pyplot as plt\n",
    "from xgboost import plot_tree\n",
    "from matplotlib.pylab import rcParams\n",
    "%matplotlib inline\n",
    "\n",
    "rcParams['figure.figsize'] = 30,30"
   ]
  },
  {
   "cell_type": "code",
   "execution_count": 61,
   "id": "italic-medication",
   "metadata": {},
   "outputs": [],
   "source": [
    "# plot_tree(model, rankdir='LR');"
   ]
  },
  {
   "cell_type": "code",
   "execution_count": 63,
   "id": "square-repeat",
   "metadata": {},
   "outputs": [],
   "source": [
    "# plot_tree(model, rankdir='LR', num_trees=1);"
   ]
  },
  {
   "cell_type": "code",
   "execution_count": null,
   "id": "available-mills",
   "metadata": {},
   "outputs": [],
   "source": [
    "# plot_tree(model, rankdir='LR', num_trees=19);"
   ]
  },
  {
   "cell_type": "markdown",
   "id": "quiet-arthur",
   "metadata": {},
   "source": [
    "Notice how the trees only compute residuals, and not the actual target value. We can also visualize the tree as text."
   ]
  },
  {
   "cell_type": "code",
   "execution_count": 64,
   "id": "renewable-things",
   "metadata": {},
   "outputs": [],
   "source": [
    "trees = model.get_booster().get_dump()"
   ]
  },
  {
   "cell_type": "code",
   "execution_count": 65,
   "id": "dedicated-attribute",
   "metadata": {},
   "outputs": [
    {
     "data": {
      "text/plain": [
       "20"
      ]
     },
     "execution_count": 65,
     "metadata": {},
     "output_type": "execute_result"
    }
   ],
   "source": [
    "len(trees)"
   ]
  },
  {
   "cell_type": "code",
   "execution_count": 66,
   "id": "reported-official",
   "metadata": {},
   "outputs": [
    {
     "name": "stdout",
     "output_type": "stream",
     "text": [
      "0:[Promo<0.5] yes=1,no=2,missing=1\n",
      "\t1:[StoreType_b<0.5] yes=3,no=4,missing=3\n",
      "\t\t3:[Assortment_a<0.5] yes=7,no=8,missing=7\n",
      "\t\t\t7:[CompetitionDistance<0.00441719405] yes=15,no=16,missing=15\n",
      "\t\t\t\t15:leaf=2309.51147\n",
      "\t\t\t\t16:leaf=1823.30444\n",
      "\t\t\t8:[WeekOfYear<0.911764741] yes=17,no=18,missing=17\n",
      "\t\t\t\t17:leaf=1619.43994\n",
      "\t\t\t\t18:leaf=2002.44897\n",
      "\t\t4:[CompetitionDistance<0.01602057] yes=9,no=10,missing=9\n",
      "\t\t\t9:[CompetitionDistance<0.0134493671] yes=19,no=20,missing=19\n",
      "\t\t\t\t19:leaf=2740.44067\n",
      "\t\t\t\t20:leaf=5576.85889\n",
      "\t\t\t10:[DayOfWeek_7<0.5] yes=21,no=22,missing=21\n",
      "\t\t\t\t21:leaf=1898.36487\n",
      "\t\t\t\t22:leaf=2961.08765\n",
      "\t2:[DayOfWeek_1<0.5] yes=5,no=6,missing=5\n",
      "\t\t5:[Month<0.954545498] yes=11,no=12,missing=11\n",
      "\t\t\t11:[StoreType_b<0.5] yes=23,no=24,missing=23\n",
      "\t\t\t\t23:leaf=2295.30566\n",
      "\t\t\t\t24:leaf=3294.27759\n",
      "\t\t\t12:[Day<0.333333343] yes=25,no=26,missing=25\n",
      "\t\t\t\t25:leaf=2754.58521\n",
      "\t\t\t\t26:leaf=3246.39014\n",
      "\t\t6:[Month<0.954545498] yes=13,no=14,missing=13\n",
      "\t\t\t13:[CompetitionDistance<0.002703059] yes=27,no=28,missing=27\n",
      "\t\t\t\t27:leaf=3347.80688\n",
      "\t\t\t\t28:leaf=2839.39551\n",
      "\t\t\t14:[Day<0.25] yes=29,no=30,missing=29\n",
      "\t\t\t\t29:leaf=3400.54419\n",
      "\t\t\t\t30:leaf=4059.85938\n",
      "\n"
     ]
    }
   ],
   "source": [
    "print(trees[0])"
   ]
  },
  {
   "cell_type": "markdown",
   "id": "acceptable-stupid",
   "metadata": {},
   "source": [
    "### Feature importance\n",
    "\n",
    "Just like decision trees and random forests, XGBoost also provides a feature importance score for each column in the input."
   ]
  },
  {
   "cell_type": "code",
   "execution_count": 67,
   "id": "circular-study",
   "metadata": {},
   "outputs": [],
   "source": [
    "importance_df = pd.DataFrame({\n",
    "    'feature': X.columns,\n",
    "    'importance': model.feature_importances_\n",
    "}).sort_values('importance', ascending=False)"
   ]
  },
  {
   "cell_type": "code",
   "execution_count": 68,
   "id": "related-college",
   "metadata": {},
   "outputs": [
    {
     "data": {
      "text/html": [
       "<div>\n",
       "<style scoped>\n",
       "    .dataframe tbody tr th:only-of-type {\n",
       "        vertical-align: middle;\n",
       "    }\n",
       "\n",
       "    .dataframe tbody tr th {\n",
       "        vertical-align: top;\n",
       "    }\n",
       "\n",
       "    .dataframe thead th {\n",
       "        text-align: right;\n",
       "    }\n",
       "</style>\n",
       "<table border=\"1\" class=\"dataframe\">\n",
       "  <thead>\n",
       "    <tr style=\"text-align: right;\">\n",
       "      <th></th>\n",
       "      <th>feature</th>\n",
       "      <th>importance</th>\n",
       "    </tr>\n",
       "  </thead>\n",
       "  <tbody>\n",
       "    <tr>\n",
       "      <th>1</th>\n",
       "      <td>Promo</td>\n",
       "      <td>0.317473</td>\n",
       "    </tr>\n",
       "    <tr>\n",
       "      <th>24</th>\n",
       "      <td>StoreType_b</td>\n",
       "      <td>0.086472</td>\n",
       "    </tr>\n",
       "    <tr>\n",
       "      <th>12</th>\n",
       "      <td>DayOfWeek_1</td>\n",
       "      <td>0.082268</td>\n",
       "    </tr>\n",
       "    <tr>\n",
       "      <th>5</th>\n",
       "      <td>Promo2</td>\n",
       "      <td>0.063986</td>\n",
       "    </tr>\n",
       "    <tr>\n",
       "      <th>3</th>\n",
       "      <td>CompetitionDistance</td>\n",
       "      <td>0.045053</td>\n",
       "    </tr>\n",
       "    <tr>\n",
       "      <th>29</th>\n",
       "      <td>Assortment_c</td>\n",
       "      <td>0.040226</td>\n",
       "    </tr>\n",
       "    <tr>\n",
       "      <th>27</th>\n",
       "      <td>Assortment_a</td>\n",
       "      <td>0.038759</td>\n",
       "    </tr>\n",
       "    <tr>\n",
       "      <th>9</th>\n",
       "      <td>Month</td>\n",
       "      <td>0.038493</td>\n",
       "    </tr>\n",
       "    <tr>\n",
       "      <th>0</th>\n",
       "      <td>Store</td>\n",
       "      <td>0.038119</td>\n",
       "    </tr>\n",
       "    <tr>\n",
       "      <th>8</th>\n",
       "      <td>Day</td>\n",
       "      <td>0.033209</td>\n",
       "    </tr>\n",
       "  </tbody>\n",
       "</table>\n",
       "</div>"
      ],
      "text/plain": [
       "                feature  importance\n",
       "1                 Promo    0.317473\n",
       "24          StoreType_b    0.086472\n",
       "12          DayOfWeek_1    0.082268\n",
       "5                Promo2    0.063986\n",
       "3   CompetitionDistance    0.045053\n",
       "29         Assortment_c    0.040226\n",
       "27         Assortment_a    0.038759\n",
       "9                 Month    0.038493\n",
       "0                 Store    0.038119\n",
       "8                   Day    0.033209"
      ]
     },
     "execution_count": 68,
     "metadata": {},
     "output_type": "execute_result"
    }
   ],
   "source": [
    "importance_df.head(10)"
   ]
  },
  {
   "cell_type": "code",
   "execution_count": 69,
   "id": "academic-element",
   "metadata": {
    "scrolled": true
   },
   "outputs": [
    {
     "data": {
      "image/png": "[encoded data removed]",
      "text/plain": [
       "<Figure size 720x432 with 1 Axes>"
      ]
     },
     "metadata": {
      "needs_background": "light"
     },
     "output_type": "display_data"
    }
   ],
   "source": [
    "import seaborn as sns\n",
    "plt.figure(figsize=(10,6))\n",
    "plt.title('Feature Importance')\n",
    "sns.barplot(data=importance_df.head(10), x='importance', y='feature');"
   ]
  },
  {
   "cell_type": "markdown",
   "id": "optical-diameter",
   "metadata": {},
   "source": [
    "Let's save our work before continuing."
   ]
  },
  {
   "cell_type": "markdown",
   "id": "union-intro",
   "metadata": {},
   "source": [
    "## K Fold Cross Validation\n",
    "\n",
    "Notice that we didn't create a validation set before training our XGBoost model. We'll use a different validation strategy this time, called K-fold cross validation ([source](https://vitalflux.com/k-fold-cross-validation-python-example/)):\n",
    "\n",
    "![](https://vitalflux.com/wp-content/uploads/2020/08/Screenshot-2020-08-15-at-11.13.53-AM.png)"
   ]
  },
  {
   "cell_type": "markdown",
   "id": "allied-amsterdam",
   "metadata": {},
   "source": [
    "Scikit-learn provides utilities for performing K fold cross validation."
   ]
  },
  {
   "cell_type": "code",
   "execution_count": 70,
   "id": "congressional-killer",
   "metadata": {},
   "outputs": [],
   "source": [
    "from sklearn.model_selection import KFold"
   ]
  },
  {
   "cell_type": "markdown",
   "id": "confused-bulletin",
   "metadata": {},
   "source": [
    "Let's define a helper function `train_and_evaluate` which trains a model the given parameters and returns the trained model, training error and validation error."
   ]
  },
  {
   "cell_type": "code",
   "execution_count": 71,
   "id": "novel-gazette",
   "metadata": {},
   "outputs": [],
   "source": [
    "def train_and_evaluate(X_train, train_targets, X_val, val_targets, **params):\n",
    "    model = XGBRegressor(random_state=42, n_jobs=-1, **params)\n",
    "    model.fit(X_train, train_targets)\n",
    "    train_rmse = rmse(model.predict(X_train), train_targets)\n",
    "    val_rmse = rmse(model.predict(X_val), val_targets)\n",
    "    return model, train_rmse, val_rmse"
   ]
  },
  {
   "cell_type": "markdown",
   "id": "disciplinary-japanese",
   "metadata": {},
   "source": [
    "Now, we can use the `KFold` utility to create the different training/validations splits and train a separate model for each fold."
   ]
  },
  {
   "cell_type": "code",
   "execution_count": 72,
   "id": "registered-surveillance",
   "metadata": {},
   "outputs": [],
   "source": [
    "kfold = KFold(n_splits=5)"
   ]
  },
  {
   "cell_type": "code",
   "execution_count": 73,
   "id": "bulgarian-press",
   "metadata": {},
   "outputs": [
    {
     "name": "stdout",
     "output_type": "stream",
     "text": [
      "Train RMSE: 2352.216448531526, Validation RMSE: 2424.6228916973314\n",
      "Train RMSE: 2406.709513789309, Validation RMSE: 2451.9646038059277\n",
      "Train RMSE: 2365.7354745443067, Validation RMSE: 2336.984157073758\n",
      "Train RMSE: 2366.4732092777763, Validation RMSE: 2460.8995475901697\n",
      "Train RMSE: 2379.3752997474626, Validation RMSE: 2440.665320626728\n"
     ]
    }
   ],
   "source": [
    "models = []\n",
    "\n",
    "for train_idxs, val_idxs in kfold.split(X):\n",
    "    X_train, train_targets = X.iloc[train_idxs], targets.iloc[train_idxs]\n",
    "    X_val, val_targets = X.iloc[val_idxs], targets.iloc[val_idxs]\n",
    "    model, train_rmse, val_rmse = train_and_evaluate(X_train, \n",
    "                                                     train_targets, \n",
    "                                                     X_val, \n",
    "                                                     val_targets, \n",
    "                                                     max_depth=4, \n",
    "                                                     n_estimators=20)\n",
    "    models.append(model)\n",
    "    print('Train RMSE: {}, Validation RMSE: {}'.format(train_rmse, val_rmse))"
   ]
  },
  {
   "cell_type": "markdown",
   "id": "swiss-connecticut",
   "metadata": {},
   "source": [
    "Let's also define a function to average predictions from the 5 different models."
   ]
  },
  {
   "cell_type": "code",
   "execution_count": 74,
   "id": "specified-pierre",
   "metadata": {},
   "outputs": [],
   "source": [
    "import numpy as np\n",
    "\n",
    "def predict_avg(models, inputs):\n",
    "    return np.mean([model.predict(inputs) for model in models], axis=0)"
   ]
  },
  {
   "cell_type": "code",
   "execution_count": 75,
   "id": "coordinated-hindu",
   "metadata": {},
   "outputs": [],
   "source": [
    "preds = predict_avg(models, X)"
   ]
  },
  {
   "cell_type": "code",
   "execution_count": 76,
   "id": "moved-indie",
   "metadata": {},
   "outputs": [
    {
     "data": {
      "text/plain": [
       "array([8021.374 , 7577.715 , 8747.863 , ..., 7615.0303, 7924.784 ,\n",
       "       9600.297 ], dtype=float32)"
      ]
     },
     "execution_count": 76,
     "metadata": {},
     "output_type": "execute_result"
    }
   ],
   "source": [
    "preds"
   ]
  },
  {
   "cell_type": "markdown",
   "id": "metric-meter",
   "metadata": {},
   "source": [
    "We can now use `predict_avg` to make predictions for the test set."
   ]
  },
  {
   "cell_type": "markdown",
   "id": "royal-population",
   "metadata": {},
   "source": [
    "## Hyperparameter Tuning and Regularization\n",
    "\n",
    "Just like other machine learning models, there are several hyperparameters we can to adjust the capacity of model and reduce overfitting.\n",
    "\n",
    "<img src=\"https://i.imgur.com/EJCrSZw.png\" width=\"480\">\n",
    "\n",
    "Check out the following resources to learn more about hyperparameter supported by XGBoost:\n",
    "\n",
    "- https://xgboost.readthedocs.io/en/latest/python/python_api.html#xgboost.XGBRegressor\n",
    "- https://xgboost.readthedocs.io/en/latest/parameter.html"
   ]
  },
  {
   "cell_type": "code",
   "execution_count": 77,
   "id": "funky-canon",
   "metadata": {},
   "outputs": [
    {
     "data": {
      "text/html": [
       "<style>#sk-container-id-2 {color: black;background-color: white;}#sk-container-id-2 pre{padding: 0;}#sk-container-id-2 div.sk-toggleable {background-color: white;}#sk-container-id-2 label.sk-toggleable__label {cursor: pointer;display: block;width: 100%;margin-bottom: 0;padding: 0.3em;box-sizing: border-box;text-align: center;}#sk-container-id-2 label.sk-toggleable__label-arrow:before {content: \"▸\";float: left;margin-right: 0.25em;color: #696969;}#sk-container-id-2 label.sk-toggleable__label-arrow:hover:before {color: black;}#sk-container-id-2 div.sk-estimator:hover label.sk-toggleable__label-arrow:before {color: black;}#sk-container-id-2 div.sk-toggleable__content {max-height: 0;max-width: 0;overflow: hidden;text-align: left;background-color: #f0f8ff;}#sk-container-id-2 div.sk-toggleable__content pre {margin: 0.2em;color: black;border-radius: 0.25em;background-color: #f0f8ff;}#sk-container-id-2 input.sk-toggleable__control:checked~div.sk-toggleable__content {max-height: 200px;max-width: 100%;overflow: auto;}#sk-container-id-2 input.sk-toggleable__control:checked~label.sk-toggleable__label-arrow:before {content: \"▾\";}#sk-container-id-2 div.sk-estimator input.sk-toggleable__control:checked~label.sk-toggleable__label {background-color: #d4ebff;}#sk-container-id-2 div.sk-label input.sk-toggleable__control:checked~label.sk-toggleable__label {background-color: #d4ebff;}#sk-container-id-2 input.sk-hidden--visually {border: 0;clip: rect(1px 1px 1px 1px);clip: rect(1px, 1px, 1px, 1px);height: 1px;margin: -1px;overflow: hidden;padding: 0;position: absolute;width: 1px;}#sk-container-id-2 div.sk-estimator {font-family: monospace;background-color: #f0f8ff;border: 1px dotted black;border-radius: 0.25em;box-sizing: border-box;margin-bottom: 0.5em;}#sk-container-id-2 div.sk-estimator:hover {background-color: #d4ebff;}#sk-container-id-2 div.sk-parallel-item::after {content: \"\";width: 100%;border-bottom: 1px solid gray;flex-grow: 1;}#sk-container-id-2 div.sk-label:hover label.sk-toggleable__label {background-color: #d4ebff;}#sk-container-id-2 div.sk-serial::before {content: \"\";position: absolute;border-left: 1px solid gray;box-sizing: border-box;top: 0;bottom: 0;left: 50%;z-index: 0;}#sk-container-id-2 div.sk-serial {display: flex;flex-direction: column;align-items: center;background-color: white;padding-right: 0.2em;padding-left: 0.2em;position: relative;}#sk-container-id-2 div.sk-item {position: relative;z-index: 1;}#sk-container-id-2 div.sk-parallel {display: flex;align-items: stretch;justify-content: center;background-color: white;position: relative;}#sk-container-id-2 div.sk-item::before, #sk-container-id-2 div.sk-parallel-item::before {content: \"\";position: absolute;border-left: 1px solid gray;box-sizing: border-box;top: 0;bottom: 0;left: 50%;z-index: -1;}#sk-container-id-2 div.sk-parallel-item {display: flex;flex-direction: column;z-index: 1;position: relative;background-color: white;}#sk-container-id-2 div.sk-parallel-item:first-child::after {align-self: flex-end;width: 50%;}#sk-container-id-2 div.sk-parallel-item:last-child::after {align-self: flex-start;width: 50%;}#sk-container-id-2 div.sk-parallel-item:only-child::after {width: 0;}#sk-container-id-2 div.sk-dashed-wrapped {border: 1px dashed gray;margin: 0 0.4em 0.5em 0.4em;box-sizing: border-box;padding-bottom: 0.4em;background-color: white;}#sk-container-id-2 div.sk-label label {font-family: monospace;font-weight: bold;display: inline-block;line-height: 1.2em;}#sk-container-id-2 div.sk-label-container {text-align: center;}#sk-container-id-2 div.sk-container {/* jupyter's `normalize.less` sets `[hidden] { display: none; }` but bootstrap.min.css set `[hidden] { display: none !important; }` so we also need the `!important` here to be able to override the default hidden behavior on the sphinx rendered scikit-learn.org. See: https://github.com/scikit-learn/scikit-learn/issues/21755 */display: inline-block !important;position: relative;}#sk-container-id-2 div.sk-text-repr-fallback {display: none;}</style><div id=\"sk-container-id-2\" class=\"sk-top-container\"><div class=\"sk-text-repr-fallback\"><pre>XGBRegressor(base_score=0.5, booster=&#x27;gbtree&#x27;, callbacks=None,\n",
       "             colsample_bylevel=1, colsample_bynode=1, colsample_bytree=1,\n",
       "             early_stopping_rounds=None, enable_categorical=False,\n",
       "             eval_metric=None, feature_types=None, gamma=0, gpu_id=-1,\n",
       "             grow_policy=&#x27;depthwise&#x27;, importance_type=None,\n",
       "             interaction_constraints=&#x27;&#x27;, learning_rate=0.300000012, max_bin=256,\n",
       "             max_cat_threshold=64, max_cat_to_onehot=4, max_delta_step=0,\n",
       "             max_depth=4, max_leaves=0, min_child_weight=1, missing=nan,\n",
       "             monotone_constraints=&#x27;()&#x27;, n_estimators=20, n_jobs=-1,\n",
       "             num_parallel_tree=1, predictor=&#x27;auto&#x27;, random_state=42, ...)</pre><b>In a Jupyter environment, please rerun this cell to show the HTML representation or trust the notebook. <br />On GitHub, the HTML representation is unable to render, please try loading this page with nbviewer.org.</b></div><div class=\"sk-container\" hidden><div class=\"sk-item\"><div class=\"sk-estimator sk-toggleable\"><input class=\"sk-toggleable__control sk-hidden--visually\" id=\"sk-estimator-id-2\" type=\"checkbox\" checked><label for=\"sk-estimator-id-2\" class=\"sk-toggleable__label sk-toggleable__label-arrow\">XGBRegressor</label><div class=\"sk-toggleable__content\"><pre>XGBRegressor(base_score=0.5, booster=&#x27;gbtree&#x27;, callbacks=None,\n",
       "             colsample_bylevel=1, colsample_bynode=1, colsample_bytree=1,\n",
       "             early_stopping_rounds=None, enable_categorical=False,\n",
       "             eval_metric=None, feature_types=None, gamma=0, gpu_id=-1,\n",
       "             grow_policy=&#x27;depthwise&#x27;, importance_type=None,\n",
       "             interaction_constraints=&#x27;&#x27;, learning_rate=0.300000012, max_bin=256,\n",
       "             max_cat_threshold=64, max_cat_to_onehot=4, max_delta_step=0,\n",
       "             max_depth=4, max_leaves=0, min_child_weight=1, missing=nan,\n",
       "             monotone_constraints=&#x27;()&#x27;, n_estimators=20, n_jobs=-1,\n",
       "             num_parallel_tree=1, predictor=&#x27;auto&#x27;, random_state=42, ...)</pre></div></div></div></div></div>"
      ],
      "text/plain": [
       "XGBRegressor(base_score=0.5, booster='gbtree', callbacks=None,\n",
       "             colsample_bylevel=1, colsample_bynode=1, colsample_bytree=1,\n",
       "             early_stopping_rounds=None, enable_categorical=False,\n",
       "             eval_metric=None, feature_types=None, gamma=0, gpu_id=-1,\n",
       "             grow_policy='depthwise', importance_type=None,\n",
       "             interaction_constraints='', learning_rate=0.300000012, max_bin=256,\n",
       "             max_cat_threshold=64, max_cat_to_onehot=4, max_delta_step=0,\n",
       "             max_depth=4, max_leaves=0, min_child_weight=1, missing=nan,\n",
       "             monotone_constraints='()', n_estimators=20, n_jobs=-1,\n",
       "             num_parallel_tree=1, predictor='auto', random_state=42, ...)"
      ]
     },
     "execution_count": 77,
     "metadata": {},
     "output_type": "execute_result"
    }
   ],
   "source": [
    "model"
   ]
  },
  {
   "cell_type": "code",
   "execution_count": 78,
   "id": "dominant-appeal",
   "metadata": {},
   "outputs": [],
   "source": [
    "# ?XGBRegressor"
   ]
  },
  {
   "cell_type": "markdown",
   "id": "handy-grave",
   "metadata": {},
   "source": [
    "Here's a helper function to test hyperparameters with K-fold cross validation."
   ]
  },
  {
   "cell_type": "code",
   "execution_count": 79,
   "id": "successful-devices",
   "metadata": {},
   "outputs": [],
   "source": [
    "def test_params_kfold(n_splits, **params):\n",
    "    train_rmses, val_rmses, models = [], [], []\n",
    "    kfold = KFold(n_splits)\n",
    "    for train_idxs, val_idxs in kfold.split(X):\n",
    "        X_train, train_targets = X.iloc[train_idxs], targets.iloc[train_idxs]\n",
    "        X_val, val_targets = X.iloc[val_idxs], targets.iloc[val_idxs]\n",
    "        model, train_rmse, val_rmse = train_and_evaluate(X_train, train_targets, X_val, val_targets, **params)\n",
    "        models.append(model)\n",
    "        train_rmses.append(train_rmse)\n",
    "        val_rmses.append(val_rmse)\n",
    "    print('Train RMSE: {}, Validation RMSE: {}'.format(np.mean(train_rmses), np.mean(val_rmses)))\n",
    "    return models"
   ]
  },
  {
   "cell_type": "markdown",
   "id": "invisible-america",
   "metadata": {},
   "source": [
    "Since it may take a long time to perform 5-fold cross validation for each set of parameters we wish to try, we'll just pick a random 10% sample of the dataset as the validation set."
   ]
  },
  {
   "cell_type": "code",
   "execution_count": 80,
   "id": "indoor-mason",
   "metadata": {},
   "outputs": [],
   "source": [
    "from sklearn.model_selection import train_test_split"
   ]
  },
  {
   "cell_type": "code",
   "execution_count": 81,
   "id": "progressive-primary",
   "metadata": {},
   "outputs": [],
   "source": [
    "X_train, X_val, train_targets, val_targets = train_test_split(X, targets, test_size=0.1)"
   ]
  },
  {
   "cell_type": "code",
   "execution_count": 82,
   "id": "cordless-filling",
   "metadata": {},
   "outputs": [],
   "source": [
    "def test_params(**params):\n",
    "    model = XGBRegressor(n_jobs=-1, random_state=42, **params)\n",
    "    model.fit(X_train, train_targets)\n",
    "    train_rmse = rmse(model.predict(X_train), train_targets)\n",
    "    val_rmse = rmse(model.predict(X_val), val_targets)\n",
    "    print('Train RMSE: {}, Validation RMSE: {}'.format(train_rmse, val_rmse))"
   ]
  },
  {
   "cell_type": "markdown",
   "id": "sorted-century",
   "metadata": {},
   "source": [
    "#### `n_estimators`\n",
    "\n",
    "The number of trees to be created. More trees = greater capacity of the model.\n"
   ]
  },
  {
   "cell_type": "code",
   "execution_count": 83,
   "id": "decimal-briefs",
   "metadata": {},
   "outputs": [
    {
     "name": "stdout",
     "output_type": "stream",
     "text": [
      "Train RMSE: 2361.2382348192605, Validation RMSE: 2365.8615038940266\n"
     ]
    }
   ],
   "source": [
    "test_params(n_estimators=10)"
   ]
  },
  {
   "cell_type": "code",
   "execution_count": 84,
   "id": "adjacent-blade",
   "metadata": {},
   "outputs": [
    {
     "name": "stdout",
     "output_type": "stream",
     "text": [
      "Train RMSE: 1876.0655183776516, Validation RMSE: 1875.5070979953077\n"
     ]
    }
   ],
   "source": [
    "test_params(n_estimators=30)"
   ]
  },
  {
   "cell_type": "code",
   "execution_count": 85,
   "id": "capable-ordinary",
   "metadata": {},
   "outputs": [
    {
     "name": "stdout",
     "output_type": "stream",
     "text": [
      "Train RMSE: 1195.1805370066859, Validation RMSE: 1200.278101897833\n"
     ]
    }
   ],
   "source": [
    "test_params(n_estimators=100)"
   ]
  },
  {
   "cell_type": "code",
   "execution_count": 86,
   "id": "affiliated-separation",
   "metadata": {},
   "outputs": [
    {
     "name": "stdout",
     "output_type": "stream",
     "text": [
      "Train RMSE: 904.023062502862, Validation RMSE: 916.6094618389986\n"
     ]
    }
   ],
   "source": [
    "test_params(n_estimators=240)"
   ]
  },
  {
   "cell_type": "code",
   "execution_count": null,
   "id": "silent-electron",
   "metadata": {},
   "outputs": [],
   "source": []
  },
  {
   "cell_type": "code",
   "execution_count": null,
   "id": "provincial-kruger",
   "metadata": {},
   "outputs": [],
   "source": []
  },
  {
   "cell_type": "markdown",
   "id": "talented-tunisia",
   "metadata": {},
   "source": [
    "#### `max_depth`\n",
    "\n",
    "As you increase the max depth of each tree, the capacity of the tree increases and it can capture more information about the training set."
   ]
  },
  {
   "cell_type": "code",
   "execution_count": 87,
   "id": "opened-serve",
   "metadata": {},
   "outputs": [
    {
     "name": "stdout",
     "output_type": "stream",
     "text": [
      "Train RMSE: 2346.210666998948, Validation RMSE: 2347.601009284955\n"
     ]
    }
   ],
   "source": [
    "test_params(max_depth=2)"
   ]
  },
  {
   "cell_type": "code",
   "execution_count": 88,
   "id": "brave-subdivision",
   "metadata": {},
   "outputs": [
    {
     "name": "stdout",
     "output_type": "stream",
     "text": [
      "Train RMSE: 1444.0740061924491, Validation RMSE: 1446.1069978974676\n"
     ]
    }
   ],
   "source": [
    "test_params(max_depth=5)"
   ]
  },
  {
   "cell_type": "code",
   "execution_count": 89,
   "id": "atomic-spouse",
   "metadata": {},
   "outputs": [
    {
     "name": "stdout",
     "output_type": "stream",
     "text": [
      "Train RMSE: 700.3439453456099, Validation RMSE: 788.5578434910773\n"
     ]
    }
   ],
   "source": [
    "test_params(max_depth=10)"
   ]
  },
  {
   "cell_type": "code",
   "execution_count": null,
   "id": "handy-tongue",
   "metadata": {},
   "outputs": [],
   "source": []
  },
  {
   "cell_type": "code",
   "execution_count": null,
   "id": "instrumental-rental",
   "metadata": {},
   "outputs": [],
   "source": []
  },
  {
   "cell_type": "markdown",
   "id": "early-integrity",
   "metadata": {},
   "source": [
    "#### `learning_rate`\n",
    "\n",
    "The scaling factor to be applied to the prediction of each tree. A very high learning rate (close to 1) will lead to overfitting, and a low learning rate (close to 0) will lead to underfitting."
   ]
  },
  {
   "cell_type": "code",
   "execution_count": 90,
   "id": "russian-irrigation",
   "metadata": {},
   "outputs": [
    {
     "name": "stdout",
     "output_type": "stream",
     "text": [
      "Train RMSE: 5043.809608030866, Validation RMSE: 5044.954620800823\n"
     ]
    }
   ],
   "source": [
    "test_params(n_estimators=50, learning_rate=0.01)"
   ]
  },
  {
   "cell_type": "code",
   "execution_count": 91,
   "id": "several-niger",
   "metadata": {},
   "outputs": [
    {
     "name": "stdout",
     "output_type": "stream",
     "text": [
      "Train RMSE: 2189.3553199702847, Validation RMSE: 2194.5406053857487\n"
     ]
    }
   ],
   "source": [
    "test_params(n_estimators=50, learning_rate=0.1)"
   ]
  },
  {
   "cell_type": "code",
   "execution_count": 92,
   "id": "precious-boxing",
   "metadata": {},
   "outputs": [
    {
     "name": "stdout",
     "output_type": "stream",
     "text": [
      "Train RMSE: 1550.9047556524529, Validation RMSE: 1551.6526672555296\n"
     ]
    }
   ],
   "source": [
    "test_params(n_estimators=50, learning_rate=0.3)"
   ]
  },
  {
   "cell_type": "code",
   "execution_count": 93,
   "id": "stunning-sheriff",
   "metadata": {},
   "outputs": [
    {
     "name": "stdout",
     "output_type": "stream",
     "text": [
      "Train RMSE: 1144.5702514488369, Validation RMSE: 1155.163768288048\n"
     ]
    }
   ],
   "source": [
    "test_params(n_estimators=50, learning_rate=0.99)"
   ]
  },
  {
   "cell_type": "code",
   "execution_count": null,
   "id": "colonial-enemy",
   "metadata": {},
   "outputs": [],
   "source": []
  },
  {
   "cell_type": "code",
   "execution_count": null,
   "id": "clear-procedure",
   "metadata": {},
   "outputs": [],
   "source": []
  },
  {
   "cell_type": "markdown",
   "id": "superior-paintball",
   "metadata": {},
   "source": [
    "#### `booster`\n",
    "\n",
    "Instead of using Decision Trees, XGBoost can also train a linear model for each iteration. This can be configured using `booster`."
   ]
  },
  {
   "cell_type": "code",
   "execution_count": 94,
   "id": "ranking-steel",
   "metadata": {},
   "outputs": [
    {
     "name": "stdout",
     "output_type": "stream",
     "text": [
      "Train RMSE: 2726.3179674567064, Validation RMSE: 2726.831522969837\n"
     ]
    }
   ],
   "source": [
    "test_params(booster='gblinear')"
   ]
  },
  {
   "cell_type": "markdown",
   "id": "conventional-distance",
   "metadata": {},
   "source": [
    "Clearly, a linear model is not well suited for this dataset."
   ]
  },
  {
   "cell_type": "code",
   "execution_count": null,
   "id": "original-currency",
   "metadata": {},
   "outputs": [],
   "source": []
  },
  {
   "cell_type": "code",
   "execution_count": null,
   "id": "reflected-young",
   "metadata": {},
   "outputs": [],
   "source": []
  },
  {
   "cell_type": "code",
   "execution_count": null,
   "id": "opposed-saskatchewan",
   "metadata": {},
   "outputs": [],
   "source": []
  },
  {
   "cell_type": "code",
   "execution_count": null,
   "id": "beautiful-associate",
   "metadata": {},
   "outputs": [],
   "source": []
  },
  {
   "cell_type": "markdown",
   "id": "copyrighted-consistency",
   "metadata": {},
   "source": [
    "Let's save our work before continuing."
   ]
  },
  {
   "cell_type": "markdown",
   "id": "committed-radar",
   "metadata": {},
   "source": [
    "## Putting it Together and Making Predictions\n",
    "\n",
    "Let's train a final model on the entire training set with custom hyperparameters. "
   ]
  },
  {
   "cell_type": "code",
   "execution_count": 95,
   "id": "private-snowboard",
   "metadata": {},
   "outputs": [],
   "source": [
    "model = XGBRegressor(n_jobs=-1, random_state=42, n_estimators=1000, \n",
    "                     learning_rate=0.2, max_depth=10, subsample=0.9, \n",
    "                     colsample_bytree=0.7)"
   ]
  },
  {
   "cell_type": "code",
   "execution_count": 96,
   "id": "sudden-geneva",
   "metadata": {},
   "outputs": [
    {
     "name": "stdout",
     "output_type": "stream",
     "text": [
      "CPU times: user 43min 34s, sys: 5min 33s, total: 49min 8s\n",
      "Wall time: 7min 3s\n"
     ]
    },
    {
     "data": {
      "text/html": [
       "<style>#sk-container-id-3 {color: black;background-color: white;}#sk-container-id-3 pre{padding: 0;}#sk-container-id-3 div.sk-toggleable {background-color: white;}#sk-container-id-3 label.sk-toggleable__label {cursor: pointer;display: block;width: 100%;margin-bottom: 0;padding: 0.3em;box-sizing: border-box;text-align: center;}#sk-container-id-3 label.sk-toggleable__label-arrow:before {content: \"▸\";float: left;margin-right: 0.25em;color: #696969;}#sk-container-id-3 label.sk-toggleable__label-arrow:hover:before {color: black;}#sk-container-id-3 div.sk-estimator:hover label.sk-toggleable__label-arrow:before {color: black;}#sk-container-id-3 div.sk-toggleable__content {max-height: 0;max-width: 0;overflow: hidden;text-align: left;background-color: #f0f8ff;}#sk-container-id-3 div.sk-toggleable__content pre {margin: 0.2em;color: black;border-radius: 0.25em;background-color: #f0f8ff;}#sk-container-id-3 input.sk-toggleable__control:checked~div.sk-toggleable__content {max-height: 200px;max-width: 100%;overflow: auto;}#sk-container-id-3 input.sk-toggleable__control:checked~label.sk-toggleable__label-arrow:before {content: \"▾\";}#sk-container-id-3 div.sk-estimator input.sk-toggleable__control:checked~label.sk-toggleable__label {background-color: #d4ebff;}#sk-container-id-3 div.sk-label input.sk-toggleable__control:checked~label.sk-toggleable__label {background-color: #d4ebff;}#sk-container-id-3 input.sk-hidden--visually {border: 0;clip: rect(1px 1px 1px 1px);clip: rect(1px, 1px, 1px, 1px);height: 1px;margin: -1px;overflow: hidden;padding: 0;position: absolute;width: 1px;}#sk-container-id-3 div.sk-estimator {font-family: monospace;background-color: #f0f8ff;border: 1px dotted black;border-radius: 0.25em;box-sizing: border-box;margin-bottom: 0.5em;}#sk-container-id-3 div.sk-estimator:hover {background-color: #d4ebff;}#sk-container-id-3 div.sk-parallel-item::after {content: \"\";width: 100%;border-bottom: 1px solid gray;flex-grow: 1;}#sk-container-id-3 div.sk-label:hover label.sk-toggleable__label {background-color: #d4ebff;}#sk-container-id-3 div.sk-serial::before {content: \"\";position: absolute;border-left: 1px solid gray;box-sizing: border-box;top: 0;bottom: 0;left: 50%;z-index: 0;}#sk-container-id-3 div.sk-serial {display: flex;flex-direction: column;align-items: center;background-color: white;padding-right: 0.2em;padding-left: 0.2em;position: relative;}#sk-container-id-3 div.sk-item {position: relative;z-index: 1;}#sk-container-id-3 div.sk-parallel {display: flex;align-items: stretch;justify-content: center;background-color: white;position: relative;}#sk-container-id-3 div.sk-item::before, #sk-container-id-3 div.sk-parallel-item::before {content: \"\";position: absolute;border-left: 1px solid gray;box-sizing: border-box;top: 0;bottom: 0;left: 50%;z-index: -1;}#sk-container-id-3 div.sk-parallel-item {display: flex;flex-direction: column;z-index: 1;position: relative;background-color: white;}#sk-container-id-3 div.sk-parallel-item:first-child::after {align-self: flex-end;width: 50%;}#sk-container-id-3 div.sk-parallel-item:last-child::after {align-self: flex-start;width: 50%;}#sk-container-id-3 div.sk-parallel-item:only-child::after {width: 0;}#sk-container-id-3 div.sk-dashed-wrapped {border: 1px dashed gray;margin: 0 0.4em 0.5em 0.4em;box-sizing: border-box;padding-bottom: 0.4em;background-color: white;}#sk-container-id-3 div.sk-label label {font-family: monospace;font-weight: bold;display: inline-block;line-height: 1.2em;}#sk-container-id-3 div.sk-label-container {text-align: center;}#sk-container-id-3 div.sk-container {/* jupyter's `normalize.less` sets `[hidden] { display: none; }` but bootstrap.min.css set `[hidden] { display: none !important; }` so we also need the `!important` here to be able to override the default hidden behavior on the sphinx rendered scikit-learn.org. See: https://github.com/scikit-learn/scikit-learn/issues/21755 */display: inline-block !important;position: relative;}#sk-container-id-3 div.sk-text-repr-fallback {display: none;}</style><div id=\"sk-container-id-3\" class=\"sk-top-container\"><div class=\"sk-text-repr-fallback\"><pre>XGBRegressor(base_score=0.5, booster=&#x27;gbtree&#x27;, callbacks=None,\n",
       "             colsample_bylevel=1, colsample_bynode=1, colsample_bytree=0.7,\n",
       "             early_stopping_rounds=None, enable_categorical=False,\n",
       "             eval_metric=None, feature_types=None, gamma=0, gpu_id=-1,\n",
       "             grow_policy=&#x27;depthwise&#x27;, importance_type=None,\n",
       "             interaction_constraints=&#x27;&#x27;, learning_rate=0.2, max_bin=256,\n",
       "             max_cat_threshold=64, max_cat_to_onehot=4, max_delta_step=0,\n",
       "             max_depth=10, max_leaves=0, min_child_weight=1, missing=nan,\n",
       "             monotone_constraints=&#x27;()&#x27;, n_estimators=1000, n_jobs=-1,\n",
       "             num_parallel_tree=1, predictor=&#x27;auto&#x27;, random_state=42, ...)</pre><b>In a Jupyter environment, please rerun this cell to show the HTML representation or trust the notebook. <br />On GitHub, the HTML representation is unable to render, please try loading this page with nbviewer.org.</b></div><div class=\"sk-container\" hidden><div class=\"sk-item\"><div class=\"sk-estimator sk-toggleable\"><input class=\"sk-toggleable__control sk-hidden--visually\" id=\"sk-estimator-id-3\" type=\"checkbox\" checked><label for=\"sk-estimator-id-3\" class=\"sk-toggleable__label sk-toggleable__label-arrow\">XGBRegressor</label><div class=\"sk-toggleable__content\"><pre>XGBRegressor(base_score=0.5, booster=&#x27;gbtree&#x27;, callbacks=None,\n",
       "             colsample_bylevel=1, colsample_bynode=1, colsample_bytree=0.7,\n",
       "             early_stopping_rounds=None, enable_categorical=False,\n",
       "             eval_metric=None, feature_types=None, gamma=0, gpu_id=-1,\n",
       "             grow_policy=&#x27;depthwise&#x27;, importance_type=None,\n",
       "             interaction_constraints=&#x27;&#x27;, learning_rate=0.2, max_bin=256,\n",
       "             max_cat_threshold=64, max_cat_to_onehot=4, max_delta_step=0,\n",
       "             max_depth=10, max_leaves=0, min_child_weight=1, missing=nan,\n",
       "             monotone_constraints=&#x27;()&#x27;, n_estimators=1000, n_jobs=-1,\n",
       "             num_parallel_tree=1, predictor=&#x27;auto&#x27;, random_state=42, ...)</pre></div></div></div></div></div>"
      ],
      "text/plain": [
       "XGBRegressor(base_score=0.5, booster='gbtree', callbacks=None,\n",
       "             colsample_bylevel=1, colsample_bynode=1, colsample_bytree=0.7,\n",
       "             early_stopping_rounds=None, enable_categorical=False,\n",
       "             eval_metric=None, feature_types=None, gamma=0, gpu_id=-1,\n",
       "             grow_policy='depthwise', importance_type=None,\n",
       "             interaction_constraints='', learning_rate=0.2, max_bin=256,\n",
       "             max_cat_threshold=64, max_cat_to_onehot=4, max_delta_step=0,\n",
       "             max_depth=10, max_leaves=0, min_child_weight=1, missing=nan,\n",
       "             monotone_constraints='()', n_estimators=1000, n_jobs=-1,\n",
       "             num_parallel_tree=1, predictor='auto', random_state=42, ...)"
      ]
     },
     "execution_count": 96,
     "metadata": {},
     "output_type": "execute_result"
    }
   ],
   "source": [
    "%%time\n",
    "model.fit(X, targets)"
   ]
  },
  {
   "cell_type": "markdown",
   "id": "challenging-religious",
   "metadata": {},
   "source": [
    "Now that the model is trained, we can make predictions on the test set."
   ]
  },
  {
   "cell_type": "code",
   "execution_count": 97,
   "id": "vietnamese-lucas",
   "metadata": {},
   "outputs": [],
   "source": [
    "test_preds = model.predict(X_test)"
   ]
  },
  {
   "cell_type": "markdown",
   "id": "permanent-garbage",
   "metadata": {},
   "source": [
    "Let's add the predictions into `submission_df`."
   ]
  },
  {
   "cell_type": "code",
   "execution_count": 98,
   "id": "empty-weapon",
   "metadata": {},
   "outputs": [],
   "source": [
    "submission_df['Sales']  = test_preds"
   ]
  },
  {
   "cell_type": "markdown",
   "id": "geological-football",
   "metadata": {},
   "source": [
    "Recall, however, if if the store is not open, then the sales must be 0. Thus, wherever the value of `Open` in the test set is 0, we can set the sales to 0. Also, there some missing values for `Open` in the test set. We'll replace them with 1 (open)."
   ]
  },
  {
   "cell_type": "code",
   "execution_count": 99,
   "id": "nuclear-prophet",
   "metadata": {},
   "outputs": [
    {
     "data": {
      "text/plain": [
       "11"
      ]
     },
     "execution_count": 99,
     "metadata": {},
     "output_type": "execute_result"
    }
   ],
   "source": [
    "test_df.Open.isna().sum()"
   ]
  },
  {
   "cell_type": "code",
   "execution_count": 100,
   "id": "novel-coverage",
   "metadata": {},
   "outputs": [],
   "source": [
    "submission_df['Sales'] = submission_df['Sales'] * test_df.Open.fillna(1.)"
   ]
  },
  {
   "cell_type": "code",
   "execution_count": 101,
   "id": "expanded-copper",
   "metadata": {},
   "outputs": [
    {
     "data": {
      "text/html": [
       "<div>\n",
       "<style scoped>\n",
       "    .dataframe tbody tr th:only-of-type {\n",
       "        vertical-align: middle;\n",
       "    }\n",
       "\n",
       "    .dataframe tbody tr th {\n",
       "        vertical-align: top;\n",
       "    }\n",
       "\n",
       "    .dataframe thead th {\n",
       "        text-align: right;\n",
       "    }\n",
       "</style>\n",
       "<table border=\"1\" class=\"dataframe\">\n",
       "  <thead>\n",
       "    <tr style=\"text-align: right;\">\n",
       "      <th></th>\n",
       "      <th>Id</th>\n",
       "      <th>Sales</th>\n",
       "    </tr>\n",
       "  </thead>\n",
       "  <tbody>\n",
       "    <tr>\n",
       "      <th>0</th>\n",
       "      <td>1</td>\n",
       "      <td>3890.158447</td>\n",
       "    </tr>\n",
       "    <tr>\n",
       "      <th>1</th>\n",
       "      <td>2</td>\n",
       "      <td>7826.965820</td>\n",
       "    </tr>\n",
       "    <tr>\n",
       "      <th>2</th>\n",
       "      <td>3</td>\n",
       "      <td>9055.067383</td>\n",
       "    </tr>\n",
       "    <tr>\n",
       "      <th>3</th>\n",
       "      <td>4</td>\n",
       "      <td>7324.132812</td>\n",
       "    </tr>\n",
       "    <tr>\n",
       "      <th>4</th>\n",
       "      <td>5</td>\n",
       "      <td>7040.354004</td>\n",
       "    </tr>\n",
       "    <tr>\n",
       "      <th>...</th>\n",
       "      <td>...</td>\n",
       "      <td>...</td>\n",
       "    </tr>\n",
       "    <tr>\n",
       "      <th>41083</th>\n",
       "      <td>41084</td>\n",
       "      <td>1987.500244</td>\n",
       "    </tr>\n",
       "    <tr>\n",
       "      <th>41084</th>\n",
       "      <td>41085</td>\n",
       "      <td>7301.613281</td>\n",
       "    </tr>\n",
       "    <tr>\n",
       "      <th>41085</th>\n",
       "      <td>41086</td>\n",
       "      <td>6592.193848</td>\n",
       "    </tr>\n",
       "    <tr>\n",
       "      <th>41086</th>\n",
       "      <td>41087</td>\n",
       "      <td>24340.378906</td>\n",
       "    </tr>\n",
       "    <tr>\n",
       "      <th>41087</th>\n",
       "      <td>41088</td>\n",
       "      <td>7517.351074</td>\n",
       "    </tr>\n",
       "  </tbody>\n",
       "</table>\n",
       "<p>41088 rows × 2 columns</p>\n",
       "</div>"
      ],
      "text/plain": [
       "          Id         Sales\n",
       "0          1   3890.158447\n",
       "1          2   7826.965820\n",
       "2          3   9055.067383\n",
       "3          4   7324.132812\n",
       "4          5   7040.354004\n",
       "...      ...           ...\n",
       "41083  41084   1987.500244\n",
       "41084  41085   7301.613281\n",
       "41085  41086   6592.193848\n",
       "41086  41087  24340.378906\n",
       "41087  41088   7517.351074\n",
       "\n",
       "[41088 rows x 2 columns]"
      ]
     },
     "execution_count": 101,
     "metadata": {},
     "output_type": "execute_result"
    }
   ],
   "source": [
    "submission_df"
   ]
  },
  {
   "cell_type": "markdown",
   "id": "agreed-characteristic",
   "metadata": {},
   "source": [
    "We can now save the predictions as a CSV file."
   ]
  },
  {
   "cell_type": "code",
   "execution_count": 102,
   "id": "bottom-intranet",
   "metadata": {},
   "outputs": [],
   "source": [
    "submission_df.to_csv('submission.csv', index=None)"
   ]
  },
  {
   "cell_type": "code",
   "execution_count": 103,
   "id": "ranging-cologne",
   "metadata": {},
   "outputs": [],
   "source": [
    "from IPython.display import FileLink"
   ]
  },
  {
   "cell_type": "code",
   "execution_count": 104,
   "id": "insured-durham",
   "metadata": {},
   "outputs": [
    {
     "data": {
      "text/html": [
       "<a href='submission.csv' target='_blank'>submission.csv</a><br>"
      ],
      "text/plain": [
       "/Volumes/Local/ML/kaggleProject/Rossmann-Store-sales-XGBoost/submission.csv"
      ]
     },
     "execution_count": 104,
     "metadata": {},
     "output_type": "execute_result"
    }
   ],
   "source": [
    "# Doesn't work on Colab, use the file browser instead.\n",
    "FileLink('submission.csv')"
   ]
  },
  {
   "cell_type": "code",
   "execution_count": null,
   "id": "6114933b",
   "metadata": {},
   "outputs": [],
   "source": []
  }
 ],
 "metadata": {
  "kernelspec": {
   "display_name": "Python 3 (ipykernel)",
   "language": "python",
   "name": "python3"
  },
  "language_info": {
   "codemirror_mode": {
    "name": "ipython",
    "version": 3
   },
   "file_extension": ".py",
   "mimetype": "text/x-python",
   "name": "python",
   "nbconvert_exporter": "python",
   "pygments_lexer": "ipython3",
   "version": "3.10.6"
  }
 },
 "nbformat": 4,
 "nbformat_minor": 5
}
