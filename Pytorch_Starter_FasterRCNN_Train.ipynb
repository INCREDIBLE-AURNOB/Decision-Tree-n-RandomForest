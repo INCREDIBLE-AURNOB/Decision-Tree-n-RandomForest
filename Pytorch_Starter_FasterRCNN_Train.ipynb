{
  "nbformat": 4,
  "nbformat_minor": 0,
  "metadata": {
    "colab": {
      "provenance": [],
      "authorship_tag": "ABX9TyP/oMVE2mnMNb4Td4Vk724M",
      "include_colab_link": true
    },
    "kernelspec": {
      "name": "python3",
      "display_name": "Python 3"
    },
    "language_info": {
      "name": "python"
    }
  },
  "cells": [
    {
      "cell_type": "markdown",
      "metadata": {
        "id": "view-in-github",
        "colab_type": "text"
      },
      "source": [
        "<a href=\"https://colab.research.google.com/github/INCREDIBLE-AURNOB/ML-models/blob/master/Pytorch_Starter_FasterRCNN_Train.ipynb\" target=\"_parent\"><img src=\"https://colab.research.google.com/assets/colab-badge.svg\" alt=\"Open In Colab\"/></a>"
      ]
    },
    {
      "cell_type": "code",
      "execution_count": null,
      "metadata": {
        "id": "-GgBr-7smj-s"
      },
      "outputs": [],
      "source": []
    },
    {
      "cell_type": "markdown",
      "source": [
        "#### Ref:https://www.kaggle.com/code/pestipeti/pytorch-starter-fasterrcnn-train"
      ],
      "metadata": {
        "id": "wuAOBRK7nCf2"
      }
    },
    {
      "cell_type": "code",
      "source": [],
      "metadata": {
        "id": "GXljdP40nH9V"
      },
      "execution_count": null,
      "outputs": []
    }
  ]
}